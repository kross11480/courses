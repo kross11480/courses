{
 "cells": [
  {
   "cell_type": "code",
   "execution_count": 463,
   "metadata": {},
   "outputs": [],
   "source": [
    "import pandas as pd\n",
    "import numpy as np\n",
    "import re\n",
    "import seaborn as sns\n",
    "import matplotlib.pyplot as plt\n",
    "\n",
    "%matplotlib inline\n",
    "#data from https://github.com/zygmuntz/goodbooks-10k\n",
    "ratings = pd.read_csv( 'data/ratings.csv' )\n",
    "to_read = pd.read_csv( 'data/to_read.csv' )\n",
    "books = pd.read_csv( 'data/books.csv' )\n",
    "tags = pd.read_csv( 'data/tags.csv' )\n",
    "book_tags = pd.read_csv( 'data/book_tags.csv')\n",
    "\n",
    "pd.set_option(\"display.precision\", 2)"
   ]
  },
  {
   "cell_type": "code",
   "execution_count": 480,
   "metadata": {},
   "outputs": [
    {
     "data": {
      "text/html": [
       "<div>\n",
       "<style scoped>\n",
       "    .dataframe tbody tr th:only-of-type {\n",
       "        vertical-align: middle;\n",
       "    }\n",
       "\n",
       "    .dataframe tbody tr th {\n",
       "        vertical-align: top;\n",
       "    }\n",
       "\n",
       "    .dataframe thead th {\n",
       "        text-align: right;\n",
       "    }\n",
       "</style>\n",
       "<table border=\"1\" class=\"dataframe\">\n",
       "  <thead>\n",
       "    <tr style=\"text-align: right;\">\n",
       "      <th></th>\n",
       "      <th>book_id</th>\n",
       "      <th>goodreads_book_id</th>\n",
       "      <th>best_book_id</th>\n",
       "      <th>work_id</th>\n",
       "      <th>books_count</th>\n",
       "      <th>isbn</th>\n",
       "      <th>isbn13</th>\n",
       "      <th>authors</th>\n",
       "      <th>original_publication_year</th>\n",
       "      <th>original_title</th>\n",
       "      <th>...</th>\n",
       "      <th>ratings_count</th>\n",
       "      <th>work_ratings_count</th>\n",
       "      <th>work_text_reviews_count</th>\n",
       "      <th>ratings_1</th>\n",
       "      <th>ratings_2</th>\n",
       "      <th>ratings_3</th>\n",
       "      <th>ratings_4</th>\n",
       "      <th>ratings_5</th>\n",
       "      <th>image_url</th>\n",
       "      <th>small_image_url</th>\n",
       "    </tr>\n",
       "  </thead>\n",
       "  <tbody>\n",
       "    <tr>\n",
       "      <th>0</th>\n",
       "      <td>1</td>\n",
       "      <td>2767052</td>\n",
       "      <td>2767052</td>\n",
       "      <td>2792775</td>\n",
       "      <td>272</td>\n",
       "      <td>439023483</td>\n",
       "      <td>9.78e+12</td>\n",
       "      <td>Suzanne Collins</td>\n",
       "      <td>2008.0</td>\n",
       "      <td>The Hunger Games</td>\n",
       "      <td>...</td>\n",
       "      <td>4780653</td>\n",
       "      <td>4942365</td>\n",
       "      <td>155254</td>\n",
       "      <td>66715</td>\n",
       "      <td>127936</td>\n",
       "      <td>560092</td>\n",
       "      <td>1481305</td>\n",
       "      <td>2706317</td>\n",
       "      <td>https://images.gr-assets.com/books/1447303603m...</td>\n",
       "      <td>https://images.gr-assets.com/books/1447303603s...</td>\n",
       "    </tr>\n",
       "    <tr>\n",
       "      <th>1</th>\n",
       "      <td>2</td>\n",
       "      <td>3</td>\n",
       "      <td>3</td>\n",
       "      <td>4640799</td>\n",
       "      <td>491</td>\n",
       "      <td>439554934</td>\n",
       "      <td>9.78e+12</td>\n",
       "      <td>J.K. Rowling, Mary GrandPré</td>\n",
       "      <td>1997.0</td>\n",
       "      <td>Harry Potter and the Philosopher's Stone</td>\n",
       "      <td>...</td>\n",
       "      <td>4602479</td>\n",
       "      <td>4800065</td>\n",
       "      <td>75867</td>\n",
       "      <td>75504</td>\n",
       "      <td>101676</td>\n",
       "      <td>455024</td>\n",
       "      <td>1156318</td>\n",
       "      <td>3011543</td>\n",
       "      <td>https://images.gr-assets.com/books/1474154022m...</td>\n",
       "      <td>https://images.gr-assets.com/books/1474154022s...</td>\n",
       "    </tr>\n",
       "  </tbody>\n",
       "</table>\n",
       "<p>2 rows × 23 columns</p>\n",
       "</div>"
      ],
      "text/plain": [
       "   book_id  goodreads_book_id  best_book_id  work_id  books_count       isbn  \\\n",
       "0        1            2767052       2767052  2792775          272  439023483   \n",
       "1        2                  3             3  4640799          491  439554934   \n",
       "\n",
       "     isbn13                      authors  original_publication_year  \\\n",
       "0  9.78e+12              Suzanne Collins                     2008.0   \n",
       "1  9.78e+12  J.K. Rowling, Mary GrandPré                     1997.0   \n",
       "\n",
       "                             original_title  ... ratings_count  \\\n",
       "0                          The Hunger Games  ...       4780653   \n",
       "1  Harry Potter and the Philosopher's Stone  ...       4602479   \n",
       "\n",
       "  work_ratings_count  work_text_reviews_count  ratings_1  ratings_2  \\\n",
       "0            4942365                   155254      66715     127936   \n",
       "1            4800065                    75867      75504     101676   \n",
       "\n",
       "   ratings_3  ratings_4  ratings_5  \\\n",
       "0     560092    1481305    2706317   \n",
       "1     455024    1156318    3011543   \n",
       "\n",
       "                                           image_url  \\\n",
       "0  https://images.gr-assets.com/books/1447303603m...   \n",
       "1  https://images.gr-assets.com/books/1474154022m...   \n",
       "\n",
       "                                     small_image_url  \n",
       "0  https://images.gr-assets.com/books/1447303603s...  \n",
       "1  https://images.gr-assets.com/books/1474154022s...  \n",
       "\n",
       "[2 rows x 23 columns]"
      ]
     },
     "execution_count": 480,
     "metadata": {},
     "output_type": "execute_result"
    }
   ],
   "source": [
    "books.head(2)"
   ]
  },
  {
   "cell_type": "code",
   "execution_count": 483,
   "metadata": {},
   "outputs": [
    {
     "name": "stdout",
     "output_type": "stream",
     "text": [
      "books--> (10000, 23) ratings--> (5976479, 3)\n"
     ]
    },
    {
     "data": {
      "text/html": [
       "<div>\n",
       "<style scoped>\n",
       "    .dataframe tbody tr th:only-of-type {\n",
       "        vertical-align: middle;\n",
       "    }\n",
       "\n",
       "    .dataframe tbody tr th {\n",
       "        vertical-align: top;\n",
       "    }\n",
       "\n",
       "    .dataframe thead th {\n",
       "        text-align: right;\n",
       "    }\n",
       "</style>\n",
       "<table border=\"1\" class=\"dataframe\">\n",
       "  <thead>\n",
       "    <tr style=\"text-align: right;\">\n",
       "      <th></th>\n",
       "      <th>user_id</th>\n",
       "      <th>book_id</th>\n",
       "      <th>rating</th>\n",
       "    </tr>\n",
       "  </thead>\n",
       "  <tbody>\n",
       "    <tr>\n",
       "      <th>count</th>\n",
       "      <td>5.98e+06</td>\n",
       "      <td>5.98e+06</td>\n",
       "      <td>5.98e+06</td>\n",
       "    </tr>\n",
       "    <tr>\n",
       "      <th>mean</th>\n",
       "      <td>2.62e+04</td>\n",
       "      <td>2.01e+03</td>\n",
       "      <td>3.92e+00</td>\n",
       "    </tr>\n",
       "    <tr>\n",
       "      <th>std</th>\n",
       "      <td>1.54e+04</td>\n",
       "      <td>2.47e+03</td>\n",
       "      <td>9.91e-01</td>\n",
       "    </tr>\n",
       "    <tr>\n",
       "      <th>min</th>\n",
       "      <td>1.00e+00</td>\n",
       "      <td>1.00e+00</td>\n",
       "      <td>1.00e+00</td>\n",
       "    </tr>\n",
       "    <tr>\n",
       "      <th>25%</th>\n",
       "      <td>1.28e+04</td>\n",
       "      <td>1.98e+02</td>\n",
       "      <td>3.00e+00</td>\n",
       "    </tr>\n",
       "    <tr>\n",
       "      <th>50%</th>\n",
       "      <td>2.59e+04</td>\n",
       "      <td>8.85e+02</td>\n",
       "      <td>4.00e+00</td>\n",
       "    </tr>\n",
       "    <tr>\n",
       "      <th>75%</th>\n",
       "      <td>3.95e+04</td>\n",
       "      <td>2.97e+03</td>\n",
       "      <td>5.00e+00</td>\n",
       "    </tr>\n",
       "    <tr>\n",
       "      <th>max</th>\n",
       "      <td>5.34e+04</td>\n",
       "      <td>1.00e+04</td>\n",
       "      <td>5.00e+00</td>\n",
       "    </tr>\n",
       "  </tbody>\n",
       "</table>\n",
       "</div>"
      ],
      "text/plain": [
       "        user_id   book_id    rating\n",
       "count  5.98e+06  5.98e+06  5.98e+06\n",
       "mean   2.62e+04  2.01e+03  3.92e+00\n",
       "std    1.54e+04  2.47e+03  9.91e-01\n",
       "min    1.00e+00  1.00e+00  1.00e+00\n",
       "25%    1.28e+04  1.98e+02  3.00e+00\n",
       "50%    2.59e+04  8.85e+02  4.00e+00\n",
       "75%    3.95e+04  2.97e+03  5.00e+00\n",
       "max    5.34e+04  1.00e+04  5.00e+00"
      ]
     },
     "execution_count": 483,
     "metadata": {},
     "output_type": "execute_result"
    }
   ],
   "source": [
    "print ('books-->', books.shape , 'ratings-->' ,ratings.shape)\n",
    "ratings.describe()\n",
    "#book_tags.tail()\n",
    "#483452 of 5976479 have ratings less than 3"
   ]
  },
  {
   "cell_type": "code",
   "execution_count": 341,
   "metadata": {},
   "outputs": [
    {
     "data": {
      "text/html": [
       "<div>\n",
       "<style scoped>\n",
       "    .dataframe tbody tr th:only-of-type {\n",
       "        vertical-align: middle;\n",
       "    }\n",
       "\n",
       "    .dataframe tbody tr th {\n",
       "        vertical-align: top;\n",
       "    }\n",
       "\n",
       "    .dataframe thead th {\n",
       "        text-align: right;\n",
       "    }\n",
       "</style>\n",
       "<table border=\"1\" class=\"dataframe\">\n",
       "  <thead>\n",
       "    <tr style=\"text-align: right;\">\n",
       "      <th></th>\n",
       "      <th>book_id</th>\n",
       "      <th>original_publication_year</th>\n",
       "      <th>average_rating</th>\n",
       "      <th>work_ratings_count</th>\n",
       "      <th>work_text_reviews_count</th>\n",
       "    </tr>\n",
       "  </thead>\n",
       "  <tbody>\n",
       "    <tr>\n",
       "      <th>count</th>\n",
       "      <td>10000.00</td>\n",
       "      <td>9979.00</td>\n",
       "      <td>10000.00</td>\n",
       "      <td>1.00e+04</td>\n",
       "      <td>10000.00</td>\n",
       "    </tr>\n",
       "    <tr>\n",
       "      <th>mean</th>\n",
       "      <td>5000.50</td>\n",
       "      <td>1981.99</td>\n",
       "      <td>4.00</td>\n",
       "      <td>5.97e+04</td>\n",
       "      <td>2919.96</td>\n",
       "    </tr>\n",
       "    <tr>\n",
       "      <th>std</th>\n",
       "      <td>2886.90</td>\n",
       "      <td>152.58</td>\n",
       "      <td>0.25</td>\n",
       "      <td>1.68e+05</td>\n",
       "      <td>6124.38</td>\n",
       "    </tr>\n",
       "    <tr>\n",
       "      <th>min</th>\n",
       "      <td>1.00</td>\n",
       "      <td>-1750.00</td>\n",
       "      <td>2.47</td>\n",
       "      <td>5.51e+03</td>\n",
       "      <td>3.00</td>\n",
       "    </tr>\n",
       "    <tr>\n",
       "      <th>25%</th>\n",
       "      <td>2500.75</td>\n",
       "      <td>1990.00</td>\n",
       "      <td>3.85</td>\n",
       "      <td>1.54e+04</td>\n",
       "      <td>694.00</td>\n",
       "    </tr>\n",
       "    <tr>\n",
       "      <th>50%</th>\n",
       "      <td>5000.50</td>\n",
       "      <td>2004.00</td>\n",
       "      <td>4.02</td>\n",
       "      <td>2.38e+04</td>\n",
       "      <td>1402.00</td>\n",
       "    </tr>\n",
       "    <tr>\n",
       "      <th>75%</th>\n",
       "      <td>7500.25</td>\n",
       "      <td>2011.00</td>\n",
       "      <td>4.18</td>\n",
       "      <td>4.59e+04</td>\n",
       "      <td>2744.25</td>\n",
       "    </tr>\n",
       "    <tr>\n",
       "      <th>max</th>\n",
       "      <td>10000.00</td>\n",
       "      <td>2017.00</td>\n",
       "      <td>4.82</td>\n",
       "      <td>4.94e+06</td>\n",
       "      <td>155254.00</td>\n",
       "    </tr>\n",
       "  </tbody>\n",
       "</table>\n",
       "</div>"
      ],
      "text/plain": [
       "        book_id  original_publication_year  average_rating  \\\n",
       "count  10000.00                    9979.00        10000.00   \n",
       "mean    5000.50                    1981.99            4.00   \n",
       "std     2886.90                     152.58            0.25   \n",
       "min        1.00                   -1750.00            2.47   \n",
       "25%     2500.75                    1990.00            3.85   \n",
       "50%     5000.50                    2004.00            4.02   \n",
       "75%     7500.25                    2011.00            4.18   \n",
       "max    10000.00                    2017.00            4.82   \n",
       "\n",
       "       work_ratings_count  work_text_reviews_count  \n",
       "count            1.00e+04                 10000.00  \n",
       "mean             5.97e+04                  2919.96  \n",
       "std              1.68e+05                  6124.38  \n",
       "min              5.51e+03                     3.00  \n",
       "25%              1.54e+04                   694.00  \n",
       "50%              2.38e+04                  1402.00  \n",
       "75%              4.59e+04                  2744.25  \n",
       "max              4.94e+06                155254.00  "
      ]
     },
     "execution_count": 341,
     "metadata": {},
     "output_type": "execute_result"
    }
   ],
   "source": [
    "\n",
    "books.columns.values\n",
    "books_summary = books[['book_id','title', 'authors', 'original_publication_year','average_rating', 'work_ratings_count','work_text_reviews_count']]\n",
    "books_summary.describe()"
   ]
  },
  {
   "cell_type": "code",
   "execution_count": 342,
   "metadata": {
    "scrolled": true
   },
   "outputs": [],
   "source": [
    "#Show distribution of users based on number of books rated\n",
    "ratings_per_user = ratings.groupby('user_id').user_id.apply(lambda x: len(x))\n",
    "#.user_id.apply( lambda x: len( x ))\n",
    "#ratings_per_user.hist(bins=40)\n",
    "#ratings_per_user.describe()\n",
    "#ratings['u'].hist(by=df['ser'])\n",
    "#ratings.columns.values\n"
   ]
  },
  {
   "cell_type": "code",
   "execution_count": 343,
   "metadata": {},
   "outputs": [
    {
     "data": {
      "text/plain": [
       "<matplotlib.axes._subplots.AxesSubplot at 0x120579250>"
      ]
     },
     "execution_count": 343,
     "metadata": {},
     "output_type": "execute_result"
    },
    {
     "data": {
      "image/png": "[encoded data removed]",
      "text/plain": [
       "<Figure size 432x288 with 1 Axes>"
      ]
     },
     "metadata": {
      "needs_background": "light"
     },
     "output_type": "display_data"
    }
   ],
   "source": [
    "ratings_per_user.sort_values().hist(bins=40)"
   ]
  },
  {
   "cell_type": "markdown",
   "metadata": {},
   "source": [
    "The dataset contains only users who have rated at least 19 books and average user has rated 111 books. The max user has rated 200 books implying reading and rating a book a month for 16 years :-)"
   ]
  },
  {
   "cell_type": "code",
   "execution_count": 344,
   "metadata": {},
   "outputs": [
    {
     "data": {
      "text/plain": [
       "<matplotlib.axes._subplots.AxesSubplot at 0x11db405d0>"
      ]
     },
     "execution_count": 344,
     "metadata": {},
     "output_type": "execute_result"
    },
    {
     "data": {
      "image/png": "[encoded data removed]",
      "text/plain": [
       "<Figure size 432x288 with 1 Axes>"
      ]
     },
     "metadata": {
      "needs_background": "light"
     },
     "output_type": "display_data"
    }
   ],
   "source": [
    "#ratings.boxplot(column='rating')\n",
    "#ratings.rating.describe()\n",
    "ratings_per_book = ratings.groupby('book_id').book_id.apply( lambda x: np.log10(len( x )))\n",
    "#ratings_per_book.head()\n",
    "#ratings_per_book.plot.density()\n",
    "ratings_per_book.sort_values().hist(bins=40)"
   ]
  },
  {
   "cell_type": "markdown",
   "metadata": {},
   "source": [
    "Each book has at least 8 ratings and average book has 248 ratings from a user. Note: User is somebody who has rated at least 19 books."
   ]
  },
  {
   "cell_type": "markdown",
   "metadata": {},
   "source": [
    "# The Books with most ratings are:"
   ]
  },
  {
   "cell_type": "code",
   "execution_count": 345,
   "metadata": {},
   "outputs": [
    {
     "name": "stdout",
     "output_type": "stream",
     "text": [
      "Harry Potter and the Philosopher's Stone\n",
      "Twilight\n",
      "The Great Gatsby\n",
      "To Kill a Mockingbird\n",
      "The Fault in Our Stars\n",
      "Harry Potter and the Prisoner of Azkaban\n",
      "Harry Potter and the Order of the Phoenix\n",
      " The Fellowship of the Ring\n",
      "Harry Potter and the Goblet of Fire\n",
      "The Catcher in the Rye\n"
     ]
    }
   ],
   "source": [
    "book_id = ratings_per_book.sort_values(ascending=False).index.tolist()[:10]\n",
    "popularity_most_ratings = books.iloc[book_id].original_title.to_list()\n",
    "print (*popularity_most_ratings, sep='\\n')"
   ]
  },
  {
   "cell_type": "markdown",
   "metadata": {},
   "source": [
    "# The Books with best average ratings\n",
    "Note: ratings only from user who has rated at least 19 books."
   ]
  },
  {
   "cell_type": "code",
   "execution_count": 346,
   "metadata": {
    "scrolled": true
   },
   "outputs": [
    {
     "name": "stdout",
     "output_type": "stream",
     "text": [
      "Ranma ½, Vol. 1 (Ranma ½ (US 2nd), #1)\n",
      "Wired (Wired, #1)\n",
      "Crewel (Crewel World, #1)\n",
      "Funny in Farsi: A Memoir of Growing Up Iranian in America\n",
      "The Case-Book of Sherlock Holmes\n",
      "Boys Over Flowers: Hana Yori Dango, Vol. 1 (Boys Over Flowers, #1)\n",
      "Cloudstreet\n",
      "Avatar: The Last Airbender (The Promise, #1)\n",
      "Skeleton Key (Alex Rider, #3)\n",
      "Dreamland\n"
     ]
    },
    {
     "data": {
      "image/png": "[encoded data removed]",
      "text/plain": [
       "<Figure size 432x288 with 1 Axes>"
      ]
     },
     "metadata": {
      "needs_background": "light"
     },
     "output_type": "display_data"
    }
   ],
   "source": [
    "\n",
    "avg_ratings_per_book = ratings.groupby('book_id').rating.mean()\n",
    "avg_ratings_per_book.hist(bins=40)\n",
    "high_rated_books = avg_ratings_per_book.sort_values(ascending=False).index.tolist()[:10]\n",
    "popularity_avg_ratings = books.iloc[high_rated_books].title.to_list()\n",
    "print (*popularity_avg_ratings, sep='\\n')"
   ]
  },
  {
   "cell_type": "code",
   "execution_count": 347,
   "metadata": {},
   "outputs": [
    {
     "data": {
      "text/html": [
       "<div>\n",
       "<style scoped>\n",
       "    .dataframe tbody tr th:only-of-type {\n",
       "        vertical-align: middle;\n",
       "    }\n",
       "\n",
       "    .dataframe tbody tr th {\n",
       "        vertical-align: top;\n",
       "    }\n",
       "\n",
       "    .dataframe thead th {\n",
       "        text-align: right;\n",
       "    }\n",
       "</style>\n",
       "<table border=\"1\" class=\"dataframe\">\n",
       "  <thead>\n",
       "    <tr style=\"text-align: right;\">\n",
       "      <th></th>\n",
       "      <th>book_id</th>\n",
       "      <th>original_publication_year</th>\n",
       "      <th>average_rating</th>\n",
       "      <th>work_ratings_count</th>\n",
       "      <th>work_text_reviews_count</th>\n",
       "      <th>rating</th>\n",
       "      <th>deviation</th>\n",
       "      <th>ratings/review_count</th>\n",
       "    </tr>\n",
       "  </thead>\n",
       "  <tbody>\n",
       "    <tr>\n",
       "      <th>count</th>\n",
       "      <td>10000.00</td>\n",
       "      <td>9979.00</td>\n",
       "      <td>10000.00</td>\n",
       "      <td>1.00e+04</td>\n",
       "      <td>10000.00</td>\n",
       "      <td>10000.00</td>\n",
       "      <td>10000.00</td>\n",
       "      <td>10000.00</td>\n",
       "    </tr>\n",
       "    <tr>\n",
       "      <th>mean</th>\n",
       "      <td>5000.50</td>\n",
       "      <td>1981.99</td>\n",
       "      <td>4.00</td>\n",
       "      <td>5.97e+04</td>\n",
       "      <td>2919.96</td>\n",
       "      <td>3.90</td>\n",
       "      <td>-0.10</td>\n",
       "      <td>33.59</td>\n",
       "    </tr>\n",
       "    <tr>\n",
       "      <th>std</th>\n",
       "      <td>2886.90</td>\n",
       "      <td>152.58</td>\n",
       "      <td>0.25</td>\n",
       "      <td>1.68e+05</td>\n",
       "      <td>6124.38</td>\n",
       "      <td>0.29</td>\n",
       "      <td>0.10</td>\n",
       "      <td>75.06</td>\n",
       "    </tr>\n",
       "    <tr>\n",
       "      <th>min</th>\n",
       "      <td>1.00</td>\n",
       "      <td>-1750.00</td>\n",
       "      <td>2.47</td>\n",
       "      <td>5.51e+03</td>\n",
       "      <td>3.00</td>\n",
       "      <td>2.08</td>\n",
       "      <td>-0.93</td>\n",
       "      <td>3.65</td>\n",
       "    </tr>\n",
       "    <tr>\n",
       "      <th>25%</th>\n",
       "      <td>2500.75</td>\n",
       "      <td>1990.00</td>\n",
       "      <td>3.85</td>\n",
       "      <td>1.54e+04</td>\n",
       "      <td>694.00</td>\n",
       "      <td>3.73</td>\n",
       "      <td>-0.15</td>\n",
       "      <td>11.51</td>\n",
       "    </tr>\n",
       "    <tr>\n",
       "      <th>50%</th>\n",
       "      <td>5000.50</td>\n",
       "      <td>2004.00</td>\n",
       "      <td>4.02</td>\n",
       "      <td>2.38e+04</td>\n",
       "      <td>1402.00</td>\n",
       "      <td>3.92</td>\n",
       "      <td>-0.09</td>\n",
       "      <td>19.72</td>\n",
       "    </tr>\n",
       "    <tr>\n",
       "      <th>75%</th>\n",
       "      <td>7500.25</td>\n",
       "      <td>2011.00</td>\n",
       "      <td>4.18</td>\n",
       "      <td>4.59e+04</td>\n",
       "      <td>2744.25</td>\n",
       "      <td>4.10</td>\n",
       "      <td>-0.04</td>\n",
       "      <td>35.09</td>\n",
       "    </tr>\n",
       "    <tr>\n",
       "      <th>max</th>\n",
       "      <td>10000.00</td>\n",
       "      <td>2017.00</td>\n",
       "      <td>4.82</td>\n",
       "      <td>4.94e+06</td>\n",
       "      <td>155254.00</td>\n",
       "      <td>4.83</td>\n",
       "      <td>0.51</td>\n",
       "      <td>3702.00</td>\n",
       "    </tr>\n",
       "  </tbody>\n",
       "</table>\n",
       "</div>"
      ],
      "text/plain": [
       "        book_id  original_publication_year  average_rating  \\\n",
       "count  10000.00                    9979.00        10000.00   \n",
       "mean    5000.50                    1981.99            4.00   \n",
       "std     2886.90                     152.58            0.25   \n",
       "min        1.00                   -1750.00            2.47   \n",
       "25%     2500.75                    1990.00            3.85   \n",
       "50%     5000.50                    2004.00            4.02   \n",
       "75%     7500.25                    2011.00            4.18   \n",
       "max    10000.00                    2017.00            4.82   \n",
       "\n",
       "       work_ratings_count  work_text_reviews_count    rating  deviation  \\\n",
       "count            1.00e+04                 10000.00  10000.00   10000.00   \n",
       "mean             5.97e+04                  2919.96      3.90      -0.10   \n",
       "std              1.68e+05                  6124.38      0.29       0.10   \n",
       "min              5.51e+03                     3.00      2.08      -0.93   \n",
       "25%              1.54e+04                   694.00      3.73      -0.15   \n",
       "50%              2.38e+04                  1402.00      3.92      -0.09   \n",
       "75%              4.59e+04                  2744.25      4.10      -0.04   \n",
       "max              4.94e+06                155254.00      4.83       0.51   \n",
       "\n",
       "       ratings/review_count  \n",
       "count              10000.00  \n",
       "mean                  33.59  \n",
       "std                   75.06  \n",
       "min                    3.65  \n",
       "25%                   11.51  \n",
       "50%                   19.72  \n",
       "75%                   35.09  \n",
       "max                 3702.00  "
      ]
     },
     "execution_count": 347,
     "metadata": {},
     "output_type": "execute_result"
    }
   ],
   "source": [
    "books_summary_expert_rating= books_summary.merge( avg_ratings_per_book, on = 'book_id')\n",
    "books_summary_expert_rating[\"deviation\"] = books_summary_expert_rating[\"rating\"]-books_summary_expert_rating[\"average_rating\"]\n",
    "books_summary_expert_rating[\"ratings/review_count\"] = books_summary_expert_rating[\"work_ratings_count\"]/books_summary_expert_rating[\"work_text_reviews_count\"]\n",
    "books_summary_expert_rating.describe()\n",
    "#book_classics = books_summary_expert_rating[books_summary_expert_rating['original_publication_year'] < 1940]\n",
    "#book_modern = books_summary_expert_rating[books_summary_expert_rating['original_publication_year'] >= 1940]\n",
    "#avg_expert_rating_classics = book_classics['average_rating'].mean()\n",
    "#avg_expert_rating_modern = book_modern['average_rating'].mean()\n",
    "#print (avg_expert_rating_classics, avg_expert_rating_modern)\n",
    "#underrated books\n",
    "#book_classics.sort_values(by=['original_publication_year'])[240:260]\n",
    "#book_classics.sort_values(by=['work_text_reviews_count'])\n"
   ]
  },
  {
   "cell_type": "markdown",
   "metadata": {},
   "source": [
    "# Genres"
   ]
  },
  {
   "cell_type": "code",
   "execution_count": 469,
   "metadata": {},
   "outputs": [
    {
     "name": "stderr",
     "output_type": "stream",
     "text": [
      "/Users/hritamdutta/miniconda3/lib/python3.7/site-packages/ipykernel_launcher.py:18: SettingWithCopyWarning: \n",
      "A value is trying to be set on a copy of a slice from a DataFrame.\n",
      "Try using .loc[row_indexer,col_indexer] = value instead\n",
      "\n",
      "See the caveats in the documentation: https://pandas.pydata.org/pandas-docs/stable/user_guide/indexing.html#returning-a-view-versus-a-copy\n"
     ]
    }
   ],
   "source": [
    "genres = [\"Art\", \"Biography\", \"Business\", \"Chick Lit\", \"Children's\", \"Christian\", \"Classics\", \"Comics\",\n",
    "\"Contemporary\", \"Cookbooks\", \"Crime\", \"Fantasy\", \"Fiction\", \"Gay and Lesbian\", \"Graphic Novels\", \n",
    "\"Historical Fiction\", \"History\", \"Horror\", \"Humor and Comedy\", \"Manga\", \"Memoir\", \"Music\", \"Mystery\", \"Nonfiction\", \n",
    "\"Paranormal\", \"Philosophy\", \"Poetry\", \"Psychology\", \"Religion\", \"Romance\", \"Science\", \"Science Fiction\", \n",
    "\"Self Help\", \"Suspense\", \"Spirituality\", \"Sports\", \"Thriller\", \"Travel\", \"Young Adult\"]\n",
    "genre_lower = list(map(lambda x:x.lower(), genres))\n",
    "pat = r'+$|'.join(genre_lower)\n",
    "considered_tags = tags[tags.tag_name.str.match(pat)]\n",
    "considered_tags_id = considered_tags.tag_id.tolist()\n",
    "considered_book_tags = book_tags[book_tags.tag_id.isin(considered_tags_id)]\n",
    "\n",
    "#considered_book_tags\n",
    "#popular_tags_id = genres_count.sort_values(ascending=False).index.tolist()[:10]\n",
    "\n",
    "genres_count = considered_book_tags.groupby('tag_id')[\"count\"].apply(lambda x: len(x)).sort_values(ascending=False)\n",
    "considered_tags = tags.iloc[genres_count.index.tolist()]\n",
    "count = genres_count.values.tolist()\n",
    "considered_tags[\"count\"] = count\n",
    "\n",
    "\n",
    "\n",
    "considered_book_tags = book_tags[book_tags.tag_id.isin(considered_tags_id)]\n",
    "\n",
    "#genres_count.head()\n",
    "#print ('top 10 popular tags:'+repr(tags.iloc[popular_tags_id].tag_name.tolist()))\n",
    "#print (popular_tags_id)\n",
    "#tags[tags.tag_id==11743]\n",
    "#ratings_per_book = ratings.groupby('book_id').book_id.apply( lambda x: np.log10(len( x )))\n",
    "#print (pat)\n",
    "#print(genre_lower)\n",
    "#book_tags.head() #book_id, tag_id, count\n",
    "#tags[tags.tag_id==30574] #tag_id, tag_name #tags[(tags.tag_name==\"art\")|(tags.tag_name==\"crime\")]\n",
    "#book_classics[book_classics['authors'].str.contains('|'.join(authors))]"
   ]
  },
  {
   "cell_type": "code",
   "execution_count": 472,
   "metadata": {},
   "outputs": [
    {
     "data": {
      "text/plain": [
       "[Text(0, 0.5, 'Genre'), Text(0.5, 0, 'Book Count')]"
      ]
     },
     "execution_count": 472,
     "metadata": {},
     "output_type": "execute_result"
    },
    {
     "data": {
      "image/png": "[encoded data removed]",
      "text/plain": [
       "<Figure size 720x432 with 1 Axes>"
      ]
     },
     "metadata": {},
     "output_type": "display_data"
    }
   ],
   "source": [
    "# Initialize the matplotlib figure\n",
    "f, ax = plt.subplots(figsize=(10, 6))\n",
    "\n",
    "sns.set(style=\"whitegrid\")\n",
    "sns.barplot(x=\"count\", y= \"tag_name\", data = considered_tags)\n",
    "\n",
    "ax.set( ylabel=\"Genre\", xlabel=\"Book Count\")"
   ]
  },
  {
   "cell_type": "code",
   "execution_count": 486,
   "metadata": {},
   "outputs": [
    {
     "data": {
      "text/html": [
       "<div>\n",
       "<style scoped>\n",
       "    .dataframe tbody tr th:only-of-type {\n",
       "        vertical-align: middle;\n",
       "    }\n",
       "\n",
       "    .dataframe tbody tr th {\n",
       "        vertical-align: top;\n",
       "    }\n",
       "\n",
       "    .dataframe thead th {\n",
       "        text-align: right;\n",
       "    }\n",
       "</style>\n",
       "<table border=\"1\" class=\"dataframe\">\n",
       "  <thead>\n",
       "    <tr style=\"text-align: right;\">\n",
       "      <th></th>\n",
       "      <th>book_id</th>\n",
       "      <th>title</th>\n",
       "      <th>authors</th>\n",
       "      <th>original_publication_year</th>\n",
       "      <th>average_rating</th>\n",
       "      <th>work_ratings_count</th>\n",
       "      <th>work_text_reviews_count</th>\n",
       "      <th>rating</th>\n",
       "      <th>deviation</th>\n",
       "      <th>ratings/review_count</th>\n",
       "      <th>log_work_ratings_count</th>\n",
       "    </tr>\n",
       "  </thead>\n",
       "  <tbody>\n",
       "    <tr>\n",
       "      <th>6919</th>\n",
       "      <td>6920</td>\n",
       "      <td>The Indispensable Calvin and Hobbes</td>\n",
       "      <td>Bill Watterson</td>\n",
       "      <td>1992.0</td>\n",
       "      <td>4.73</td>\n",
       "      <td>16911</td>\n",
       "      <td>325</td>\n",
       "      <td>4.77</td>\n",
       "      <td>3.64e-02</td>\n",
       "      <td>52.03</td>\n",
       "      <td>4.23</td>\n",
       "    </tr>\n",
       "    <tr>\n",
       "      <th>3752</th>\n",
       "      <td>3753</td>\n",
       "      <td>Harry Potter Collection (Harry Potter, #1-6)</td>\n",
       "      <td>J.K. Rowling</td>\n",
       "      <td>2005.0</td>\n",
       "      <td>4.73</td>\n",
       "      <td>26274</td>\n",
       "      <td>882</td>\n",
       "      <td>4.70</td>\n",
       "      <td>-3.04e-02</td>\n",
       "      <td>29.79</td>\n",
       "      <td>4.42</td>\n",
       "    </tr>\n",
       "    <tr>\n",
       "      <th>6360</th>\n",
       "      <td>6361</td>\n",
       "      <td>There's Treasure Everywhere: A Calvin and Hobb...</td>\n",
       "      <td>Bill Watterson</td>\n",
       "      <td>1996.0</td>\n",
       "      <td>4.74</td>\n",
       "      <td>17285</td>\n",
       "      <td>149</td>\n",
       "      <td>4.76</td>\n",
       "      <td>2.05e-02</td>\n",
       "      <td>116.01</td>\n",
       "      <td>4.24</td>\n",
       "    </tr>\n",
       "    <tr>\n",
       "      <th>421</th>\n",
       "      <td>422</td>\n",
       "      <td>Harry Potter Boxset (Harry Potter, #1-7)</td>\n",
       "      <td>J.K. Rowling</td>\n",
       "      <td>1998.0</td>\n",
       "      <td>4.74</td>\n",
       "      <td>204125</td>\n",
       "      <td>6508</td>\n",
       "      <td>4.66</td>\n",
       "      <td>-8.05e-02</td>\n",
       "      <td>31.37</td>\n",
       "      <td>5.31</td>\n",
       "    </tr>\n",
       "    <tr>\n",
       "      <th>4482</th>\n",
       "      <td>4483</td>\n",
       "      <td>It's a Magical World: A Calvin and Hobbes Coll...</td>\n",
       "      <td>Bill Watterson</td>\n",
       "      <td>1996.0</td>\n",
       "      <td>4.75</td>\n",
       "      <td>23429</td>\n",
       "      <td>264</td>\n",
       "      <td>4.75</td>\n",
       "      <td>-2.60e-03</td>\n",
       "      <td>88.75</td>\n",
       "      <td>4.37</td>\n",
       "    </tr>\n",
       "    <tr>\n",
       "      <th>8853</th>\n",
       "      <td>8854</td>\n",
       "      <td>Mark of the Lion Trilogy</td>\n",
       "      <td>Francine Rivers</td>\n",
       "      <td>1993.0</td>\n",
       "      <td>4.76</td>\n",
       "      <td>9547</td>\n",
       "      <td>731</td>\n",
       "      <td>4.59</td>\n",
       "      <td>-1.75e-01</td>\n",
       "      <td>13.06</td>\n",
       "      <td>3.98</td>\n",
       "    </tr>\n",
       "    <tr>\n",
       "      <th>7946</th>\n",
       "      <td>7947</td>\n",
       "      <td>ESV Study Bible</td>\n",
       "      <td>Anonymous, Lane T. Dennis, Wayne A. Grudem</td>\n",
       "      <td>2002.0</td>\n",
       "      <td>4.76</td>\n",
       "      <td>10784</td>\n",
       "      <td>262</td>\n",
       "      <td>4.82</td>\n",
       "      <td>5.82e-02</td>\n",
       "      <td>41.16</td>\n",
       "      <td>4.03</td>\n",
       "    </tr>\n",
       "    <tr>\n",
       "      <th>861</th>\n",
       "      <td>862</td>\n",
       "      <td>Words of Radiance (The Stormlight Archive, #2)</td>\n",
       "      <td>Brandon Sanderson</td>\n",
       "      <td>2014.0</td>\n",
       "      <td>4.77</td>\n",
       "      <td>108176</td>\n",
       "      <td>7261</td>\n",
       "      <td>4.70</td>\n",
       "      <td>-6.72e-02</td>\n",
       "      <td>14.90</td>\n",
       "      <td>5.03</td>\n",
       "    </tr>\n",
       "    <tr>\n",
       "      <th>3274</th>\n",
       "      <td>3275</td>\n",
       "      <td>Harry Potter Boxed Set, Books 1-5 (Harry Potte...</td>\n",
       "      <td>J.K. Rowling, Mary GrandPré</td>\n",
       "      <td>2003.0</td>\n",
       "      <td>4.77</td>\n",
       "      <td>33424</td>\n",
       "      <td>156</td>\n",
       "      <td>4.74</td>\n",
       "      <td>-3.32e-02</td>\n",
       "      <td>214.26</td>\n",
       "      <td>4.52</td>\n",
       "    </tr>\n",
       "    <tr>\n",
       "      <th>3627</th>\n",
       "      <td>3628</td>\n",
       "      <td>The Complete Calvin and Hobbes</td>\n",
       "      <td>Bill Watterson</td>\n",
       "      <td>2005.0</td>\n",
       "      <td>4.82</td>\n",
       "      <td>29968</td>\n",
       "      <td>861</td>\n",
       "      <td>4.83</td>\n",
       "      <td>9.88e-03</td>\n",
       "      <td>34.81</td>\n",
       "      <td>4.48</td>\n",
       "    </tr>\n",
       "  </tbody>\n",
       "</table>\n",
       "</div>"
      ],
      "text/plain": [
       "      book_id                                              title  \\\n",
       "6919     6920                The Indispensable Calvin and Hobbes   \n",
       "3752     3753       Harry Potter Collection (Harry Potter, #1-6)   \n",
       "6360     6361  There's Treasure Everywhere: A Calvin and Hobb...   \n",
       "421       422           Harry Potter Boxset (Harry Potter, #1-7)   \n",
       "4482     4483  It's a Magical World: A Calvin and Hobbes Coll...   \n",
       "8853     8854                           Mark of the Lion Trilogy   \n",
       "7946     7947                                    ESV Study Bible   \n",
       "861       862     Words of Radiance (The Stormlight Archive, #2)   \n",
       "3274     3275  Harry Potter Boxed Set, Books 1-5 (Harry Potte...   \n",
       "3627     3628                     The Complete Calvin and Hobbes   \n",
       "\n",
       "                                         authors  original_publication_year  \\\n",
       "6919                              Bill Watterson                     1992.0   \n",
       "3752                                J.K. Rowling                     2005.0   \n",
       "6360                              Bill Watterson                     1996.0   \n",
       "421                                 J.K. Rowling                     1998.0   \n",
       "4482                              Bill Watterson                     1996.0   \n",
       "8853                             Francine Rivers                     1993.0   \n",
       "7946  Anonymous, Lane T. Dennis, Wayne A. Grudem                     2002.0   \n",
       "861                            Brandon Sanderson                     2014.0   \n",
       "3274                 J.K. Rowling, Mary GrandPré                     2003.0   \n",
       "3627                              Bill Watterson                     2005.0   \n",
       "\n",
       "      average_rating  work_ratings_count  work_text_reviews_count  rating  \\\n",
       "6919            4.73               16911                      325    4.77   \n",
       "3752            4.73               26274                      882    4.70   \n",
       "6360            4.74               17285                      149    4.76   \n",
       "421             4.74              204125                     6508    4.66   \n",
       "4482            4.75               23429                      264    4.75   \n",
       "8853            4.76                9547                      731    4.59   \n",
       "7946            4.76               10784                      262    4.82   \n",
       "861             4.77              108176                     7261    4.70   \n",
       "3274            4.77               33424                      156    4.74   \n",
       "3627            4.82               29968                      861    4.83   \n",
       "\n",
       "      deviation  ratings/review_count  log_work_ratings_count  \n",
       "6919   3.64e-02                 52.03                    4.23  \n",
       "3752  -3.04e-02                 29.79                    4.42  \n",
       "6360   2.05e-02                116.01                    4.24  \n",
       "421   -8.05e-02                 31.37                    5.31  \n",
       "4482  -2.60e-03                 88.75                    4.37  \n",
       "8853  -1.75e-01                 13.06                    3.98  \n",
       "7946   5.82e-02                 41.16                    4.03  \n",
       "861   -6.72e-02                 14.90                    5.03  \n",
       "3274  -3.32e-02                214.26                    4.52  \n",
       "3627   9.88e-03                 34.81                    4.48  "
      ]
     },
     "execution_count": 486,
     "metadata": {},
     "output_type": "execute_result"
    }
   ],
   "source": [
    "#books_summary_expert_rating.head(10)\n",
    "#books_summary_expert_rating.sort_values(by=['ratings/review_count','rating','work_text_reviews_count']).head(10)\n",
    "#books_summary_expert_rating.sort_values(by=['work_text_reviews_count'],ascending=False).head(10)\n",
    "#books_summary_expert_rating.sort_values(by=['rating'],ascending=False).head(10)\n",
    "#books_summary_expert_rating.sort_values(by=['rating']).head(10)\n",
    "#books_summary_expert_rating.sort_values(by=['work_ratings_count'],ascending=False).head(10)\n",
    "#books_summary_expert_rating.sort_values(by=['deviation'],ascending=True).head(10)\n",
    "books_summary_expert_rating.sort_values(by=['average_rating'],ascending=True).tail(10)"
   ]
  },
  {
   "cell_type": "markdown",
   "metadata": {},
   "source": [
    "The following compilation of authors and books is recommended by Mortimer Adler's reading list from the book 'How to Read'. \n",
    "Several Authors are not in dataset as they may not have enough ratings/reviews. Mostly Scientific Works.\n",
    "Furthermore, several classics from eastern civilization are absent and the list should be extended."
   ]
  },
  {
   "cell_type": "code",
   "execution_count": 487,
   "metadata": {},
   "outputs": [
    {
     "data": {
      "text/html": [
       "<div>\n",
       "<style scoped>\n",
       "    .dataframe tbody tr th:only-of-type {\n",
       "        vertical-align: middle;\n",
       "    }\n",
       "\n",
       "    .dataframe tbody tr th {\n",
       "        vertical-align: top;\n",
       "    }\n",
       "\n",
       "    .dataframe thead th {\n",
       "        text-align: right;\n",
       "    }\n",
       "</style>\n",
       "<table border=\"1\" class=\"dataframe\">\n",
       "  <thead>\n",
       "    <tr style=\"text-align: right;\">\n",
       "      <th></th>\n",
       "      <th>book_id</th>\n",
       "      <th>original_publication_year</th>\n",
       "      <th>average_rating</th>\n",
       "      <th>work_ratings_count</th>\n",
       "      <th>work_text_reviews_count</th>\n",
       "      <th>rating</th>\n",
       "      <th>deviation</th>\n",
       "    </tr>\n",
       "  </thead>\n",
       "  <tbody>\n",
       "    <tr>\n",
       "      <th>count</th>\n",
       "      <td>204.00</td>\n",
       "      <td>204.00</td>\n",
       "      <td>204.00</td>\n",
       "      <td>2.04e+02</td>\n",
       "      <td>204.00</td>\n",
       "      <td>204.00</td>\n",
       "      <td>204.00</td>\n",
       "    </tr>\n",
       "    <tr>\n",
       "      <th>mean</th>\n",
       "      <td>4003.16</td>\n",
       "      <td>1527.23</td>\n",
       "      <td>3.88</td>\n",
       "      <td>1.11e+05</td>\n",
       "      <td>2555.81</td>\n",
       "      <td>3.82</td>\n",
       "      <td>-0.06</td>\n",
       "    </tr>\n",
       "    <tr>\n",
       "      <th>std</th>\n",
       "      <td>3036.06</td>\n",
       "      <td>722.71</td>\n",
       "      <td>0.20</td>\n",
       "      <td>2.39e+05</td>\n",
       "      <td>4575.33</td>\n",
       "      <td>0.21</td>\n",
       "      <td>0.06</td>\n",
       "    </tr>\n",
       "    <tr>\n",
       "      <th>min</th>\n",
       "      <td>10.00</td>\n",
       "      <td>-762.00</td>\n",
       "      <td>3.09</td>\n",
       "      <td>9.75e+03</td>\n",
       "      <td>57.00</td>\n",
       "      <td>3.09</td>\n",
       "      <td>-0.23</td>\n",
       "    </tr>\n",
       "    <tr>\n",
       "      <th>25%</th>\n",
       "      <td>1129.50</td>\n",
       "      <td>1600.75</td>\n",
       "      <td>3.76</td>\n",
       "      <td>1.60e+04</td>\n",
       "      <td>552.00</td>\n",
       "      <td>3.70</td>\n",
       "      <td>-0.10</td>\n",
       "    </tr>\n",
       "    <tr>\n",
       "      <th>50%</th>\n",
       "      <td>3597.00</td>\n",
       "      <td>1833.50</td>\n",
       "      <td>3.89</td>\n",
       "      <td>3.19e+04</td>\n",
       "      <td>930.00</td>\n",
       "      <td>3.81</td>\n",
       "      <td>-0.06</td>\n",
       "    </tr>\n",
       "    <tr>\n",
       "      <th>75%</th>\n",
       "      <td>6445.25</td>\n",
       "      <td>1881.25</td>\n",
       "      <td>4.01</td>\n",
       "      <td>9.08e+04</td>\n",
       "      <td>2628.50</td>\n",
       "      <td>3.94</td>\n",
       "      <td>-0.03</td>\n",
       "    </tr>\n",
       "    <tr>\n",
       "      <th>max</th>\n",
       "      <td>9995.00</td>\n",
       "      <td>1962.00</td>\n",
       "      <td>4.55</td>\n",
       "      <td>2.19e+06</td>\n",
       "      <td>49152.00</td>\n",
       "      <td>4.53</td>\n",
       "      <td>0.18</td>\n",
       "    </tr>\n",
       "  </tbody>\n",
       "</table>\n",
       "</div>"
      ],
      "text/plain": [
       "       book_id  original_publication_year  average_rating  work_ratings_count  \\\n",
       "count   204.00                     204.00          204.00            2.04e+02   \n",
       "mean   4003.16                    1527.23            3.88            1.11e+05   \n",
       "std    3036.06                     722.71            0.20            2.39e+05   \n",
       "min      10.00                    -762.00            3.09            9.75e+03   \n",
       "25%    1129.50                    1600.75            3.76            1.60e+04   \n",
       "50%    3597.00                    1833.50            3.89            3.19e+04   \n",
       "75%    6445.25                    1881.25            4.01            9.08e+04   \n",
       "max    9995.00                    1962.00            4.55            2.19e+06   \n",
       "\n",
       "       work_text_reviews_count  rating  deviation  \n",
       "count                   204.00  204.00     204.00  \n",
       "mean                   2555.81    3.82      -0.06  \n",
       "std                    4575.33    0.21       0.06  \n",
       "min                      57.00    3.09      -0.23  \n",
       "25%                     552.00    3.70      -0.10  \n",
       "50%                     930.00    3.81      -0.06  \n",
       "75%                    2628.50    3.94      -0.03  \n",
       "max                   49152.00    4.53       0.18  "
      ]
     },
     "execution_count": 487,
     "metadata": {},
     "output_type": "execute_result"
    }
   ],
   "source": [
    "#Classics in dataset recommended by Mortimer Adler's reading list. \n",
    "#Authors\n",
    "\n",
    "authors = ['Homer', 'Aeschylus', 'Sophocles', 'Herodotus', 'Euripides', 'Thucydides', \n",
    "           'Hippocrates', 'Aristophanes', 'Plato', 'Aristotle', 'Epicurus', 'Euclid', 'Archimedes', 'Perga', 'Cicero', \n",
    "           'Lucretius', 'Virgil', 'Horace', 'Livy', 'Ovid', 'Plutarch', 'Tacitus', 'Gerasa', 'Epictetus', 'Ptolemy', \n",
    "           'Lucian', 'Aurelius', 'Galen', 'Plotinus', 'Augustine', 'Aquinas', 'Alighieri', 'Chaucer', 'Vinci', \n",
    "           'Machiavelli', 'Erasmus', 'Copernicus', 'More', 'Luther', 'Rabelais', 'Calvin', 'Montaigne', 'Gilbert', \n",
    "           'Cervantes', 'Spenser', 'Bacon', 'Shakespeare', 'Galilei', 'Kepler', 'Harvey', 'Hobbes', 'Descartes', 'Milton', \n",
    "           'Molière', 'Pascal', 'Huygens', 'Spinoza', 'Locke', 'Racine', 'Newton', 'Leibniz', 'Defoe', 'Swift', \n",
    "           'Congreve', 'Berkeley', 'Pope', 'Montesquieu', 'Voltaire', 'Fielding', 'Johnson', 'Hume', 'Rousseau', \n",
    "           'Sterne', 'Smith', 'Kant', 'Gibbon', 'Boswell', 'Lavoisier', 'Madison', 'Bentham', 'Goethe', 'Fourier', \n",
    "           'Hegel', 'Wordsworth', 'Coleridge', 'Austen', 'Clausewitz', 'Stendhal', 'Byron', 'Schopenhauer', 'Faraday', \n",
    "           'Lyell', 'Comte', 'Balzac', 'Emerson', 'Hawthorne', 'Tocqueville', 'Mill', 'Darwin', 'Dickens', 'Bernard', \n",
    "           'Thoreau', 'Marx', 'Eliot', 'Melville', 'Dostoyevsky', 'Flaubert', 'Ibsen', 'Tolstoy', 'Twain', \n",
    "           'James', 'James', 'Nietzsche', 'Poincare', 'Freud', 'Shaw', 'Planck', 'Bergson', 'Dewey', 'Whitehead', \n",
    "           'Santayana', 'Lenin', 'Proust', 'Russell', 'Mann', 'Einstein', 'Joyce', 'Maritain', 'Kafka', 'Toynbee', \n",
    "           'Sartre', 'Solzhenitsyn']\n",
    "\n",
    "classics = pd.read_csv( 'data/classic.csv' )\n",
    "rated_classic_authors = classics['authors'].tolist()\n",
    "classics.describe()"
   ]
  },
  {
   "cell_type": "code",
   "execution_count": 351,
   "metadata": {},
   "outputs": [
    {
     "name": "stdout",
     "output_type": "stream",
     "text": [
      "number of unrated classic authors in data set: 56\n",
      "['Hippocrates', 'Epicurus', 'Euclid', 'Archimedes', 'Perga', 'Cicero', 'Lucretius', 'Horace', 'Livy', 'Plutarch', 'Tacitus', 'Gerasa', 'Epictetus', 'Ptolemy', 'Lucian', 'Galen', 'Plotinus', 'Aquinas', 'Erasmus', 'Copernicus', 'Luther', 'Calvin', 'Montaigne', 'Bacon', 'Galilei', 'Kepler', 'Harvey', 'Pascal', 'Huygens', 'Racine', 'Newton', 'Leibniz', 'Congreve', 'Berkeley', 'Pope', 'Montesquieu', 'Boswell', 'Lavoisier', 'Bentham', 'Fourier', 'Wordsworth', 'Clausewitz', 'Schopenhauer', 'Faraday', 'Lyell', 'Comte', 'Dostoevsky', 'Poincare', 'Planck', 'Bergson', 'Dewey', 'Whitehead', 'Santayana', 'Lenin', 'Maritain', 'Toynbee']\n"
     ]
    }
   ],
   "source": [
    "unrated_classic_authors = []\n",
    "#print (rated_classic_authors)\n",
    "\n",
    "for author in authors:\n",
    "    if not any(author in s for s in rated_classic_authors):\n",
    "        unrated_classic_authors.append(author)\n",
    "\n",
    "print ('number of unrated classic authors in data set: '+ repr(len(unrated_classic_authors)))\n",
    "print (unrated_classic_authors)"
   ]
  },
  {
   "cell_type": "code",
   "execution_count": 456,
   "metadata": {},
   "outputs": [
    {
     "data": {
      "text/html": [
       "<div>\n",
       "<style scoped>\n",
       "    .dataframe tbody tr th:only-of-type {\n",
       "        vertical-align: middle;\n",
       "    }\n",
       "\n",
       "    .dataframe tbody tr th {\n",
       "        vertical-align: top;\n",
       "    }\n",
       "\n",
       "    .dataframe thead th {\n",
       "        text-align: right;\n",
       "    }\n",
       "</style>\n",
       "<table border=\"1\" class=\"dataframe\">\n",
       "  <thead>\n",
       "    <tr style=\"text-align: right;\">\n",
       "      <th></th>\n",
       "      <th>book_id</th>\n",
       "      <th>title</th>\n",
       "      <th>authors</th>\n",
       "      <th>original_publication_year</th>\n",
       "      <th>average_rating</th>\n",
       "      <th>work_ratings_count</th>\n",
       "      <th>work_text_reviews_count</th>\n",
       "      <th>rating</th>\n",
       "      <th>deviation</th>\n",
       "      <th>ratings/review_count</th>\n",
       "    </tr>\n",
       "  </thead>\n",
       "  <tbody>\n",
       "    <tr>\n",
       "      <th>90</th>\n",
       "      <td>3041</td>\n",
       "      <td>Leonardo's Notebooks</td>\n",
       "      <td>Leonardo da Vinci, H. Anna Suh</td>\n",
       "      <td>1519.0</td>\n",
       "      <td>3.97</td>\n",
       "      <td>27803</td>\n",
       "      <td>114</td>\n",
       "      <td>4.07</td>\n",
       "      <td>0.10</td>\n",
       "      <td>243.89</td>\n",
       "    </tr>\n",
       "    <tr>\n",
       "      <th>178</th>\n",
       "      <td>8149</td>\n",
       "      <td>Pygmalion &amp; My Fair Lady</td>\n",
       "      <td>George Bernard Shaw, Alan Jay Lerner</td>\n",
       "      <td>1956.0</td>\n",
       "      <td>4.24</td>\n",
       "      <td>13460</td>\n",
       "      <td>63</td>\n",
       "      <td>4.29</td>\n",
       "      <td>0.05</td>\n",
       "      <td>213.65</td>\n",
       "    </tr>\n",
       "    <tr>\n",
       "      <th>188</th>\n",
       "      <td>8899</td>\n",
       "      <td>Selected Poems</td>\n",
       "      <td>George Gordon Byron, Peter J. Manning, Susan J...</td>\n",
       "      <td>1848.0</td>\n",
       "      <td>4.05</td>\n",
       "      <td>11313</td>\n",
       "      <td>57</td>\n",
       "      <td>3.98</td>\n",
       "      <td>-0.07</td>\n",
       "      <td>198.47</td>\n",
       "    </tr>\n",
       "    <tr>\n",
       "      <th>198</th>\n",
       "      <td>9605</td>\n",
       "      <td>Essays and Poems</td>\n",
       "      <td>Ralph Waldo Emerson, Peter Norberg</td>\n",
       "      <td>1856.0</td>\n",
       "      <td>3.98</td>\n",
       "      <td>11967</td>\n",
       "      <td>62</td>\n",
       "      <td>3.88</td>\n",
       "      <td>-0.10</td>\n",
       "      <td>193.02</td>\n",
       "    </tr>\n",
       "    <tr>\n",
       "      <th>75</th>\n",
       "      <td>2168</td>\n",
       "      <td>A Christmas Carol, The Chimes and The Cricket ...</td>\n",
       "      <td>Charles Dickens, Katharine Kroeber Wiley</td>\n",
       "      <td>1843.0</td>\n",
       "      <td>4.11</td>\n",
       "      <td>48945</td>\n",
       "      <td>263</td>\n",
       "      <td>4.10</td>\n",
       "      <td>-0.01</td>\n",
       "      <td>186.10</td>\n",
       "    </tr>\n",
       "    <tr>\n",
       "      <th>173</th>\n",
       "      <td>7990</td>\n",
       "      <td>An Essay Concerning Human Understanding</td>\n",
       "      <td>John Locke</td>\n",
       "      <td>1689.0</td>\n",
       "      <td>3.82</td>\n",
       "      <td>11957</td>\n",
       "      <td>92</td>\n",
       "      <td>3.76</td>\n",
       "      <td>-0.06</td>\n",
       "      <td>129.97</td>\n",
       "    </tr>\n",
       "    <tr>\n",
       "      <th>1</th>\n",
       "      <td>29</td>\n",
       "      <td>Romeo and Juliet</td>\n",
       "      <td>William Shakespeare, Robert           Jackson</td>\n",
       "      <td>1595.0</td>\n",
       "      <td>3.73</td>\n",
       "      <td>1672889</td>\n",
       "      <td>14778</td>\n",
       "      <td>3.71</td>\n",
       "      <td>-0.02</td>\n",
       "      <td>113.20</td>\n",
       "    </tr>\n",
       "    <tr>\n",
       "      <th>165</th>\n",
       "      <td>7428</td>\n",
       "      <td>Two Treatises of Government</td>\n",
       "      <td>John Locke, Peter Laslett, Raymond Geuss</td>\n",
       "      <td>1689.0</td>\n",
       "      <td>3.81</td>\n",
       "      <td>13378</td>\n",
       "      <td>120</td>\n",
       "      <td>3.78</td>\n",
       "      <td>-0.03</td>\n",
       "      <td>111.48</td>\n",
       "    </tr>\n",
       "    <tr>\n",
       "      <th>60</th>\n",
       "      <td>1492</td>\n",
       "      <td>The Complete Poems of Emily Dickinson</td>\n",
       "      <td>Emily Dickinson, Thomas H. Johnson</td>\n",
       "      <td>1890.0</td>\n",
       "      <td>4.21</td>\n",
       "      <td>62149</td>\n",
       "      <td>614</td>\n",
       "      <td>4.17</td>\n",
       "      <td>-0.04</td>\n",
       "      <td>101.22</td>\n",
       "    </tr>\n",
       "    <tr>\n",
       "      <th>74</th>\n",
       "      <td>2142</td>\n",
       "      <td>The Iliad/The Odyssey</td>\n",
       "      <td>Homer, Robert Fagles, Bernard Knox</td>\n",
       "      <td>-762.0</td>\n",
       "      <td>4.03</td>\n",
       "      <td>51098</td>\n",
       "      <td>537</td>\n",
       "      <td>3.95</td>\n",
       "      <td>-0.08</td>\n",
       "      <td>95.15</td>\n",
       "    </tr>\n",
       "  </tbody>\n",
       "</table>\n",
       "</div>"
      ],
      "text/plain": [
       "     book_id                                              title  \\\n",
       "90      3041                               Leonardo's Notebooks   \n",
       "178     8149                           Pygmalion & My Fair Lady   \n",
       "188     8899                                     Selected Poems   \n",
       "198     9605                                   Essays and Poems   \n",
       "75      2168  A Christmas Carol, The Chimes and The Cricket ...   \n",
       "173     7990            An Essay Concerning Human Understanding   \n",
       "1         29                                   Romeo and Juliet   \n",
       "165     7428                        Two Treatises of Government   \n",
       "60      1492              The Complete Poems of Emily Dickinson   \n",
       "74      2142                              The Iliad/The Odyssey   \n",
       "\n",
       "                                               authors  \\\n",
       "90                      Leonardo da Vinci, H. Anna Suh   \n",
       "178               George Bernard Shaw, Alan Jay Lerner   \n",
       "188  George Gordon Byron, Peter J. Manning, Susan J...   \n",
       "198                 Ralph Waldo Emerson, Peter Norberg   \n",
       "75            Charles Dickens, Katharine Kroeber Wiley   \n",
       "173                                         John Locke   \n",
       "1        William Shakespeare, Robert           Jackson   \n",
       "165           John Locke, Peter Laslett, Raymond Geuss   \n",
       "60                  Emily Dickinson, Thomas H. Johnson   \n",
       "74                  Homer, Robert Fagles, Bernard Knox   \n",
       "\n",
       "     original_publication_year  average_rating  work_ratings_count  \\\n",
       "90                      1519.0            3.97               27803   \n",
       "178                     1956.0            4.24               13460   \n",
       "188                     1848.0            4.05               11313   \n",
       "198                     1856.0            3.98               11967   \n",
       "75                      1843.0            4.11               48945   \n",
       "173                     1689.0            3.82               11957   \n",
       "1                       1595.0            3.73             1672889   \n",
       "165                     1689.0            3.81               13378   \n",
       "60                      1890.0            4.21               62149   \n",
       "74                      -762.0            4.03               51098   \n",
       "\n",
       "     work_text_reviews_count  rating  deviation  ratings/review_count  \n",
       "90                       114    4.07       0.10                243.89  \n",
       "178                       63    4.29       0.05                213.65  \n",
       "188                       57    3.98      -0.07                198.47  \n",
       "198                       62    3.88      -0.10                193.02  \n",
       "75                       263    4.10      -0.01                186.10  \n",
       "173                       92    3.76      -0.06                129.97  \n",
       "1                      14778    3.71      -0.02                113.20  \n",
       "165                      120    3.78      -0.03                111.48  \n",
       "60                       614    4.17      -0.04                101.22  \n",
       "74                       537    3.95      -0.08                 95.15  "
      ]
     },
     "execution_count": 456,
     "metadata": {},
     "output_type": "execute_result"
    }
   ],
   "source": [
    "classics[\"ratings/review_count\"] = classics[\"work_ratings_count\"]/classics[\"work_text_reviews_count\"]\n",
    "classics.sort_values(by=['ratings/review_count','rating','work_text_reviews_count'], ascending=False).head(10)"
   ]
  },
  {
   "cell_type": "markdown",
   "metadata": {},
   "source": [
    "# Visualization\n",
    "Try out diffent plots for comparing the control set of all books and books from all classic authors.\n",
    "\n",
    "It shows that\n",
    "- 56 of 129 classic authors are not in dataset of books. The dataset can be scraped for 2020.\n",
    "- The classic books have average rating(3.82) less than control set (3.90). Note: This is for average rating from users of rate frequently. The average rating from all users for classics (3.88) is less than control set (4.0)\n",
    "- The users who rate frequently tend to give lower ratings.\n",
    "- Out of 10,000 books in control set only 212 are written by classic authors.\n",
    "- The standard deviation for classics(.21) is less than control set(.29)\n",
    "- For classics, one review has been given for every 44 ratings. Whereas for control set, one review has been given for every 34 ratings."
   ]
  },
  {
   "cell_type": "code",
   "execution_count": 353,
   "metadata": {},
   "outputs": [
    {
     "data": {
      "text/plain": [
       "<matplotlib.axes._subplots.AxesSubplot at 0x1236cda50>"
      ]
     },
     "execution_count": 353,
     "metadata": {},
     "output_type": "execute_result"
    },
    {
     "data": {
      "image/png": "[encoded data removed]",
      "text/plain": [
       "<Figure size 432x288 with 1 Axes>"
      ]
     },
     "metadata": {
      "needs_background": "light"
     },
     "output_type": "display_data"
    }
   ],
   "source": [
    "#t.violinplot(column=['average_rating', 'rating'])\n",
    "sns.distplot(books_summary_expert_rating[\"rating\"])\n",
    "sns.distplot(classics[\"rating\"],color=\"red\")\n",
    "\n",
    "#t[\"rating\"].plot.kde()\n",
    "#import matplotlib.pyplot as plt\n",
    "#fig = plt.figure()\n",
    "#for frame in [t,books_summary_expert_rating]:\n",
    "#    plt.hist(frame['average_rating'], normed=True, alpha=0.5)\n",
    "\n",
    "#plt.show()"
   ]
  },
  {
   "cell_type": "code",
   "execution_count": 354,
   "metadata": {},
   "outputs": [
    {
     "data": {
      "text/plain": [
       "<matplotlib.axes._subplots.AxesSubplot at 0x11e863cd0>"
      ]
     },
     "execution_count": 354,
     "metadata": {},
     "output_type": "execute_result"
    },
    {
     "data": {
      "image/png": "[encoded data removed]",
      "text/plain": [
       "<Figure size 432x288 with 1 Axes>"
      ]
     },
     "metadata": {
      "needs_background": "light"
     },
     "output_type": "display_data"
    }
   ],
   "source": [
    "#sns.stripplot(x=books_summary_expert_rating[\"rating\"])\n",
    "#sns.stripplot(x=classics[\"average_rating\"],color=\".8\")\n",
    "sns.violinplot(x=books_summary_expert_rating[\"rating\"])\n",
    "sns.violinplot(x=classics[\"rating\"],color=\".8\")"
   ]
  },
  {
   "cell_type": "code",
   "execution_count": 355,
   "metadata": {},
   "outputs": [
    {
     "data": {
      "text/plain": [
       "<matplotlib.axes._subplots.AxesSubplot at 0x120a78c50>"
      ]
     },
     "execution_count": 355,
     "metadata": {},
     "output_type": "execute_result"
    },
    {
     "data": {
      "image/png": "[encoded data removed]",
      "text/plain": [
       "<Figure size 432x288 with 1 Axes>"
      ]
     },
     "metadata": {
      "needs_background": "light"
     },
     "output_type": "display_data"
    }
   ],
   "source": [
    "books_summary_expert_rating.boxplot(column=['average_rating', 'rating'])"
   ]
  },
  {
   "cell_type": "code",
   "execution_count": 356,
   "metadata": {},
   "outputs": [
    {
     "data": {
      "text/plain": [
       "<matplotlib.axes._subplots.AxesSubplot at 0x120a48910>"
      ]
     },
     "execution_count": 356,
     "metadata": {},
     "output_type": "execute_result"
    },
    {
     "data": {
      "image/png": "[encoded data removed]",
      "text/plain": [
       "<Figure size 432x288 with 2 Axes>"
      ]
     },
     "metadata": {
      "needs_background": "light"
     },
     "output_type": "display_data"
    }
   ],
   "source": [
    "books_summary_expert_rating['log_work_ratings_count'] = np.log10(books_summary_expert_rating['work_ratings_count'])\n",
    "books_summary_expert_rating.plot.hexbin(x='average_rating',\n",
    "                      y='log_work_ratings_count', gridsize=20)"
   ]
  },
  {
   "cell_type": "code",
   "execution_count": 357,
   "metadata": {
    "scrolled": true
   },
   "outputs": [
    {
     "data": {
      "text/plain": [
       "<matplotlib.axes._subplots.AxesSubplot at 0x11f4867d0>"
      ]
     },
     "execution_count": 357,
     "metadata": {},
     "output_type": "execute_result"
    },
    {
     "data": {
      "image/png": "[encoded data removed]",
      "text/plain": [
       "<Figure size 432x288 with 1 Axes>"
      ]
     },
     "metadata": {
      "needs_background": "light"
     },
     "output_type": "display_data"
    }
   ],
   "source": [
    "books_summary_expert_rating.rating.plot.density(linewidth=4)"
   ]
  },
  {
   "cell_type": "code",
   "execution_count": 457,
   "metadata": {},
   "outputs": [],
   "source": [
    "def ann(row):\n",
    "    ind = row[0]\n",
    "    r = row[1]\n",
    "    plt.gca().annotate(r[\"title\"], xy=(r[\"rating\"], r[\"average_rating\"]), \n",
    "            xytext=(2,2) , textcoords =\"offset points\", )"
   ]
  },
  {
   "cell_type": "code",
   "execution_count": 358,
   "metadata": {},
   "outputs": [
    {
     "data": {
      "text/plain": [
       "<seaborn.axisgrid.JointGrid at 0x11eb11d90>"
      ]
     },
     "execution_count": 358,
     "metadata": {},
     "output_type": "execute_result"
    },
    {
     "data": {
      "image/png": "[encoded data removed]",
      "text/plain": [
       "<Figure size 504x504 with 3 Axes>"
      ]
     },
     "metadata": {
      "needs_background": "light"
     },
     "output_type": "display_data"
    }
   ],
   "source": [
    "x1 = books_summary_expert_rating['rating']\n",
    "x2 = books_summary_expert_rating['average_rating']\n",
    "sns.jointplot(x1, x2, kind=\"reg\", height=7, space=0)"
   ]
  },
  {
   "cell_type": "code",
   "execution_count": 477,
   "metadata": {},
   "outputs": [
    {
     "data": {
      "image/png": "[encoded data removed]",
      "text/plain": [
       "<Figure size 504x504 with 3 Axes>"
      ]
     },
     "metadata": {},
     "output_type": "display_data"
    }
   ],
   "source": [
    "x1 = books_summary_expert_rating['rating']\n",
    "x2 = books_summary_expert_rating['average_rating']\n",
    "g = sns.jointplot(x1, x2, kind=\"reg\", height=7, space=0)\n",
    "\n",
    "#indices to annotate\n",
    "head = books_summary_expert_rating[books_summary_expert_rating.rating > 3].sort_values(by=['deviation'], ascending=[False]).head(1)\n",
    "tail = books_summary_expert_rating[books_summary_expert_rating.rating > 3].sort_values(by=['deviation'], ascending=[False]).tail(1)\n",
    "\n",
    "for row in head.iterrows():\n",
    "    ann(row)\n",
    "for row in tail.iterrows():\n",
    "    ann(row)\n",
    "\n",
    "plt.show()\n",
    "\n"
   ]
  },
  {
   "cell_type": "code",
   "execution_count": 478,
   "metadata": {},
   "outputs": [
    {
     "data": {
      "image/png": "[encoded data removed]",
      "text/plain": [
       "<Figure size 504x504 with 3 Axes>"
      ]
     },
     "metadata": {},
     "output_type": "display_data"
    }
   ],
   "source": [
    "x1 = classics['rating']\n",
    "x2 = classics['average_rating']\n",
    "g = sns.jointplot(x1, x2, kind=\"reg\", height=7, space=0)\n",
    "\n",
    "#indices to annotate\n",
    "head = classics[classics.rating > 3].sort_values(by=['deviation'], ascending=[False]).head(1)\n",
    "tail = classics[classics.rating > 3].sort_values(by=['deviation'], ascending=[False]).tail(1)\n",
    "\n",
    "for row in head.iterrows():\n",
    "    ann(row)\n",
    "for row in tail.iterrows():\n",
    "    ann(row)\n",
    "\n",
    "plt.show()"
   ]
  },
  {
   "cell_type": "code",
   "execution_count": null,
   "metadata": {},
   "outputs": [],
   "source": []
  }
 ],
 "metadata": {
  "kernelspec": {
   "display_name": "Python 3",
   "language": "python",
   "name": "python3"
  },
  "language_info": {
   "codemirror_mode": {
    "name": "ipython",
    "version": 3
   },
   "file_extension": ".py",
   "mimetype": "text/x-python",
   "name": "python",
   "nbconvert_exporter": "python",
   "pygments_lexer": "ipython3",
   "version": "3.7.7"
  }
 },
 "nbformat": 4,
 "nbformat_minor": 4
}
