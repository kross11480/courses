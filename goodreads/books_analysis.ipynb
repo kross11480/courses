{
 "cells": [
  {
   "cell_type": "code",
   "execution_count": 132,
   "metadata": {},
   "outputs": [],
   "source": [
    "import pandas as pd\n",
    "import numpy as np\n",
    "\n",
    "%matplotlib inline\n",
    "#data from https://github.com/zygmuntz/goodbooks-10k\n",
    "ratings = pd.read_csv( 'data/ratings.csv' )\n",
    "to_read = pd.read_csv( 'data/to_read.csv' )\n",
    "books = pd.read_csv( 'data/books.csv' )\n",
    "tags = pd.read_csv( 'data/tags.csv' )\n",
    "book_tags = pd.read_csv( 'data/book_tags.csv')"
   ]
  },
  {
   "cell_type": "code",
   "execution_count": 133,
   "metadata": {},
   "outputs": [
    {
     "data": {
      "text/plain": [
       "book_id                                                  8979\n",
       "title                        The Case-Book of Sherlock Holmes\n",
       "original_publication_year                                1927\n",
       "average_rating                                            4.2\n",
       "work_ratings_count                                      14613\n",
       "work_text_reviews_count                                   575\n",
       "Name: 8978, dtype: object"
      ]
     },
     "execution_count": 133,
     "metadata": {},
     "output_type": "execute_result"
    }
   ],
   "source": [
    "books.columns.values\n",
    "books_summary = books[['book_id','title', 'original_publication_year','average_rating', 'work_ratings_count','work_text_reviews_count']]\n",
    "books_summary.iloc[8978]"
   ]
  },
  {
   "cell_type": "code",
   "execution_count": 134,
   "metadata": {
    "scrolled": true
   },
   "outputs": [
    {
     "data": {
      "text/plain": [
       "count    53424.000000\n",
       "mean       111.868804\n",
       "std         26.071224\n",
       "min         19.000000\n",
       "25%         96.000000\n",
       "50%        111.000000\n",
       "75%        128.000000\n",
       "max        200.000000\n",
       "Name: user_id, dtype: float64"
      ]
     },
     "execution_count": 134,
     "metadata": {},
     "output_type": "execute_result"
    },
    {
     "data": {
      "image/png": "[encoded data removed]",
      "text/plain": [
       "<Figure size 432x288 with 1 Axes>"
      ]
     },
     "metadata": {
      "needs_background": "light"
     },
     "output_type": "display_data"
    }
   ],
   "source": [
    "#Show distribution of users based on number of books rated\n",
    "ratings_per_user = ratings.groupby('user_id').user_id.apply( lambda x: len( x ))\n",
    "ratings_per_user.hist(bins=40)\n",
    "ratings_per_user.describe()"
   ]
  },
  {
   "cell_type": "markdown",
   "metadata": {},
   "source": [
    "The dataset contains only users who have rated at least 19 books and average user has rated 111 books. The max user has rated 200 books implying reading and rating a book a month for 16 years :-)"
   ]
  },
  {
   "cell_type": "code",
   "execution_count": 135,
   "metadata": {},
   "outputs": [
    {
     "data": {
      "text/plain": [
       "count    10000.000000\n",
       "mean       597.647900\n",
       "std       1267.289788\n",
       "min          8.000000\n",
       "25%        155.000000\n",
       "50%        248.000000\n",
       "75%        503.000000\n",
       "max      22806.000000\n",
       "Name: book_id, dtype: float64"
      ]
     },
     "execution_count": 135,
     "metadata": {},
     "output_type": "execute_result"
    }
   ],
   "source": [
    "#ratings.boxplot(column='rating')\n",
    "#ratings.rating.describe()\n",
    "ratings_per_book = ratings.groupby('book_id').book_id.apply( lambda x: len( x ))\n",
    "ratings_per_book.describe()"
   ]
  },
  {
   "cell_type": "markdown",
   "metadata": {},
   "source": [
    "Each book has at least 8 ratings and average book has 248 ratings from a user. Note: User is somebody who has rated at least 19 books."
   ]
  },
  {
   "cell_type": "markdown",
   "metadata": {},
   "source": [
    "# The Books with most ratings are:"
   ]
  },
  {
   "cell_type": "code",
   "execution_count": 136,
   "metadata": {},
   "outputs": [
    {
     "name": "stdout",
     "output_type": "stream",
     "text": [
      "Harry Potter and the Philosopher's Stone\n",
      "Twilight\n",
      "The Great Gatsby\n",
      "To Kill a Mockingbird\n",
      "The Fault in Our Stars\n",
      "Harry Potter and the Prisoner of Azkaban\n",
      "Harry Potter and the Order of the Phoenix\n",
      " The Fellowship of the Ring\n",
      "Harry Potter and the Goblet of Fire\n",
      "The Catcher in the Rye\n"
     ]
    }
   ],
   "source": [
    "book_id = ratings_per_book.sort_values(ascending=False).index.tolist()[:10]\n",
    "popularity_most_ratings = books.iloc[book_id].original_title.to_list()\n",
    "print (*popularity_most_ratings, sep='\\n')"
   ]
  },
  {
   "cell_type": "markdown",
   "metadata": {},
   "source": [
    "# The Books with best average ratings\n",
    "Note: ratings only from user who has rated at least 19 books."
   ]
  },
  {
   "cell_type": "code",
   "execution_count": 137,
   "metadata": {},
   "outputs": [
    {
     "name": "stdout",
     "output_type": "stream",
     "text": [
      "Ranma ½, Vol. 1 (Ranma ½ (US 2nd), #1)\n",
      "Wired (Wired, #1)\n",
      "Crewel (Crewel World, #1)\n",
      "Funny in Farsi: A Memoir of Growing Up Iranian in America\n",
      "The Case-Book of Sherlock Holmes\n",
      "Boys Over Flowers: Hana Yori Dango, Vol. 1 (Boys Over Flowers, #1)\n",
      "Cloudstreet\n",
      "Avatar: The Last Airbender (The Promise, #1)\n",
      "Skeleton Key (Alex Rider, #3)\n",
      "Dreamland\n"
     ]
    },
    {
     "data": {
      "text/plain": [
       "book_id\n",
       "1    4.279707\n",
       "2    4.351350\n",
       "3    3.214341\n",
       "4    4.329369\n",
       "5    3.772224\n",
       "Name: rating, dtype: float64"
      ]
     },
     "execution_count": 137,
     "metadata": {},
     "output_type": "execute_result"
    }
   ],
   "source": [
    "avg_ratings_per_book = ratings.groupby('book_id').rating.mean()\n",
    "high_rated_books = avg_ratings_per_book.sort_values(ascending=False).index.tolist()[:10]\n",
    "popularity_avg_ratings = books.iloc[high_rated_books].title.to_list()\n",
    "print (*popularity_avg_ratings, sep='\\n')\n",
    "avg_ratings_per_book.head()\n",
    "#avg_ratings_per_book.sort_values(ascending=False).head()\n",
    "#books.iloc[7947]\n",
    "#ratings_per_book[high_rated_books]"
   ]
  },
  {
   "cell_type": "code",
   "execution_count": 181,
   "metadata": {},
   "outputs": [
    {
     "ename": "SyntaxError",
     "evalue": "invalid syntax (<ipython-input-181-9080eff8a504>, line 11)",
     "output_type": "error",
     "traceback": [
      "\u001b[0;36m  File \u001b[0;32m\"<ipython-input-181-9080eff8a504>\"\u001b[0;36m, line \u001b[0;32m11\u001b[0m\n\u001b[0;31m    book_classics.sort_values(by=['work_text_reviews_count'],ascending=False).head(10:20)\u001b[0m\n\u001b[0m                                                                                     ^\u001b[0m\n\u001b[0;31mSyntaxError\u001b[0m\u001b[0;31m:\u001b[0m invalid syntax\n"
     ]
    }
   ],
   "source": [
    "books_summary_expert_rating= books_summary.merge( avg_ratings_per_book, on = 'book_id')\n",
    "books_summary_expert_rating[\"deviation\"] = books_summary_expert_rating[\"rating\"]-books_summary_expert_rating[\"average_rating\"]\n",
    "book_classics = books_summary_expert_rating[books_summary_expert_rating['original_publication_year'] < 1940]\n",
    "book_modern = books_summary_expert_rating[books_summary_expert_rating['original_publication_year'] >= 1940]\n",
    "\n",
    "avg_expert_rating_classics = book_classics['average_rating'].mean()\n",
    "avg_expert_rating_modern = book_modern['average_rating'].mean()\n",
    "#print (avg_expert_rating_classics, avg_expert_rating_modern)\n",
    "#underrated books\n",
    "#books_summary_expert_rating.sort_values(by=['deviation','rating','work_text_reviews_count'],ascending=False).head(10)\n",
    "book_classics.sort_values(by=['work_text_reviews_count'],ascending=False).head(10:20)"
   ]
  },
  {
   "cell_type": "code",
   "execution_count": null,
   "metadata": {},
   "outputs": [],
   "source": []
  }
 ],
 "metadata": {
  "kernelspec": {
   "display_name": "Python 3",
   "language": "python",
   "name": "python3"
  },
  "language_info": {
   "codemirror_mode": {
    "name": "ipython",
    "version": 3
   },
   "file_extension": ".py",
   "mimetype": "text/x-python",
   "name": "python",
   "nbconvert_exporter": "python",
   "pygments_lexer": "ipython3",
   "version": "3.7.7"
  }
 },
 "nbformat": 4,
 "nbformat_minor": 4
}
