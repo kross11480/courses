{
 "cells": [
  {
   "cell_type": "code",
   "execution_count": 213,
   "metadata": {},
   "outputs": [],
   "source": [
    "import pandas as pd\n",
    "import numpy as np\n",
    "\n",
    "%matplotlib inline\n",
    "#data from https://github.com/zygmuntz/goodbooks-10k\n",
    "ratings = pd.read_csv( 'data/ratings.csv' )\n",
    "to_read = pd.read_csv( 'data/to_read.csv' )\n",
    "books = pd.read_csv( 'data/books.csv' )\n",
    "tags = pd.read_csv( 'data/tags.csv' )\n",
    "book_tags = pd.read_csv( 'data/book_tags.csv')\n",
    "\n",
    "pd.set_option(\"display.precision\", 2)"
   ]
  },
  {
   "cell_type": "code",
   "execution_count": 214,
   "metadata": {},
   "outputs": [
    {
     "data": {
      "text/plain": [
       "book_id                                                  8979\n",
       "title                        The Case-Book of Sherlock Holmes\n",
       "authors                                    Arthur Conan Doyle\n",
       "original_publication_year                             1.9e+03\n",
       "average_rating                                            4.2\n",
       "work_ratings_count                                      14613\n",
       "work_text_reviews_count                                   575\n",
       "Name: 8978, dtype: object"
      ]
     },
     "execution_count": 214,
     "metadata": {},
     "output_type": "execute_result"
    }
   ],
   "source": [
    "books.columns.values\n",
    "books_summary = books[['book_id','title', 'authors', 'original_publication_year','average_rating', 'work_ratings_count','work_text_reviews_count']]\n",
    "books_summary.iloc[8978]"
   ]
  },
  {
   "cell_type": "code",
   "execution_count": 215,
   "metadata": {
    "scrolled": true
   },
   "outputs": [
    {
     "data": {
      "text/plain": [
       "count    53424.00\n",
       "mean       111.87\n",
       "std         26.07\n",
       "min         19.00\n",
       "25%         96.00\n",
       "50%        111.00\n",
       "75%        128.00\n",
       "max        200.00\n",
       "Name: user_id, dtype: float64"
      ]
     },
     "execution_count": 215,
     "metadata": {},
     "output_type": "execute_result"
    },
    {
     "data": {
      "image/png": "[encoded data removed]",
      "text/plain": [
       "<Figure size 432x288 with 1 Axes>"
      ]
     },
     "metadata": {
      "needs_background": "light"
     },
     "output_type": "display_data"
    }
   ],
   "source": [
    "#Show distribution of users based on number of books rated\n",
    "ratings_per_user = ratings.groupby('user_id').user_id.apply( lambda x: len( x ))\n",
    "ratings_per_user.hist(bins=40)\n",
    "ratings_per_user.describe()"
   ]
  },
  {
   "cell_type": "markdown",
   "metadata": {},
   "source": [
    "The dataset contains only users who have rated at least 19 books and average user has rated 111 books. The max user has rated 200 books implying reading and rating a book a month for 16 years :-)"
   ]
  },
  {
   "cell_type": "code",
   "execution_count": 216,
   "metadata": {},
   "outputs": [
    {
     "data": {
      "text/plain": [
       "count    10000.00\n",
       "mean       597.65\n",
       "std       1267.29\n",
       "min          8.00\n",
       "25%        155.00\n",
       "50%        248.00\n",
       "75%        503.00\n",
       "max      22806.00\n",
       "Name: book_id, dtype: float64"
      ]
     },
     "execution_count": 216,
     "metadata": {},
     "output_type": "execute_result"
    }
   ],
   "source": [
    "#ratings.boxplot(column='rating')\n",
    "#ratings.rating.describe()\n",
    "ratings_per_book = ratings.groupby('book_id').book_id.apply( lambda x: len( x ))\n",
    "ratings_per_book.describe()"
   ]
  },
  {
   "cell_type": "markdown",
   "metadata": {},
   "source": [
    "Each book has at least 8 ratings and average book has 248 ratings from a user. Note: User is somebody who has rated at least 19 books."
   ]
  },
  {
   "cell_type": "markdown",
   "metadata": {},
   "source": [
    "# The Books with most ratings are:"
   ]
  },
  {
   "cell_type": "code",
   "execution_count": 217,
   "metadata": {},
   "outputs": [
    {
     "name": "stdout",
     "output_type": "stream",
     "text": [
      "Harry Potter and the Philosopher's Stone\n",
      "Twilight\n",
      "The Great Gatsby\n",
      "To Kill a Mockingbird\n",
      "The Fault in Our Stars\n",
      "Harry Potter and the Prisoner of Azkaban\n",
      "Harry Potter and the Order of the Phoenix\n",
      " The Fellowship of the Ring\n",
      "Harry Potter and the Goblet of Fire\n",
      "The Catcher in the Rye\n"
     ]
    }
   ],
   "source": [
    "book_id = ratings_per_book.sort_values(ascending=False).index.tolist()[:10]\n",
    "popularity_most_ratings = books.iloc[book_id].original_title.to_list()\n",
    "print (*popularity_most_ratings, sep='\\n')"
   ]
  },
  {
   "cell_type": "markdown",
   "metadata": {},
   "source": [
    "# The Books with best average ratings\n",
    "Note: ratings only from user who has rated at least 19 books."
   ]
  },
  {
   "cell_type": "code",
   "execution_count": 221,
   "metadata": {
    "scrolled": true
   },
   "outputs": [
    {
     "name": "stdout",
     "output_type": "stream",
     "text": [
      "Ranma ½, Vol. 1 (Ranma ½ (US 2nd), #1)\n",
      "Wired (Wired, #1)\n",
      "Crewel (Crewel World, #1)\n",
      "Funny in Farsi: A Memoir of Growing Up Iranian in America\n",
      "The Case-Book of Sherlock Holmes\n",
      "Boys Over Flowers: Hana Yori Dango, Vol. 1 (Boys Over Flowers, #1)\n",
      "Cloudstreet\n",
      "Avatar: The Last Airbender (The Promise, #1)\n",
      "Skeleton Key (Alex Rider, #3)\n",
      "Dreamland\n"
     ]
    },
    {
     "data": {
      "text/plain": [
       "book_id\n",
       "1    4.28\n",
       "2    4.35\n",
       "3    3.21\n",
       "4    4.33\n",
       "5    3.77\n",
       "Name: rating, dtype: float64"
      ]
     },
     "execution_count": 221,
     "metadata": {},
     "output_type": "execute_result"
    }
   ],
   "source": [
    "avg_ratings_per_book = ratings.groupby('book_id').rating.mean()\n",
    "high_rated_books = avg_ratings_per_book.sort_values(ascending=False).index.tolist()[:10]\n",
    "popularity_avg_ratings = books.iloc[high_rated_books].title.to_list()\n",
    "print (*popularity_avg_ratings, sep='\\n')\n",
    "avg_ratings_per_book.head()\n",
    "#avg_ratings_per_book.sort_values(ascending=False).head()\n",
    "#books.iloc[7947]\n",
    "#ratings_per_book[high_rated_books]"
   ]
  },
  {
   "cell_type": "code",
   "execution_count": 219,
   "metadata": {},
   "outputs": [],
   "source": [
    "books_summary_expert_rating= books_summary.merge( avg_ratings_per_book, on = 'book_id')\n",
    "books_summary_expert_rating[\"deviation\"] = books_summary_expert_rating[\"rating\"]-books_summary_expert_rating[\"average_rating\"]\n",
    "book_classics = books_summary_expert_rating[books_summary_expert_rating['original_publication_year'] < 1940]\n",
    "book_modern = books_summary_expert_rating[books_summary_expert_rating['original_publication_year'] >= 1940]\n",
    "\n",
    "avg_expert_rating_classics = book_classics['average_rating'].mean()\n",
    "avg_expert_rating_modern = book_modern['average_rating'].mean()\n",
    "#print (avg_expert_rating_classics, avg_expert_rating_modern)\n",
    "#underrated books\n",
    "#books_summary_expert_rating.sort_values(by=['deviation','rating','work_text_reviews_count'],ascending=False).head(10)\n",
    "#book_classics.sort_values(by=['original_publication_year'])[240:260]\n",
    "#book_classics.sort_values(by=['work_text_reviews_count'])\n"
   ]
  },
  {
   "cell_type": "markdown",
   "metadata": {},
   "source": [
    "The following compilation of authors and books is recommended by Mortimer Adler's reading list from the book 'How to Read'. \n",
    "Several Authors are not in dataset as they may not have enough ratings/reviews. Mostly Scientific Works.\n",
    "Furthermore, several classics from eastern civilization are absent and the list should be extended."
   ]
  },
  {
   "cell_type": "code",
   "execution_count": 235,
   "metadata": {},
   "outputs": [
    {
     "data": {
      "text/html": [
       "<div>\n",
       "<style scoped>\n",
       "    .dataframe tbody tr th:only-of-type {\n",
       "        vertical-align: middle;\n",
       "    }\n",
       "\n",
       "    .dataframe tbody tr th {\n",
       "        vertical-align: top;\n",
       "    }\n",
       "\n",
       "    .dataframe thead th {\n",
       "        text-align: right;\n",
       "    }\n",
       "</style>\n",
       "<table border=\"1\" class=\"dataframe\">\n",
       "  <thead>\n",
       "    <tr style=\"text-align: right;\">\n",
       "      <th></th>\n",
       "      <th>book_id</th>\n",
       "      <th>original_publication_year</th>\n",
       "      <th>average_rating</th>\n",
       "      <th>work_ratings_count</th>\n",
       "      <th>work_text_reviews_count</th>\n",
       "      <th>rating</th>\n",
       "      <th>deviation</th>\n",
       "    </tr>\n",
       "  </thead>\n",
       "  <tbody>\n",
       "    <tr>\n",
       "      <th>count</th>\n",
       "      <td>212.00</td>\n",
       "      <td>212.00</td>\n",
       "      <td>212.00</td>\n",
       "      <td>2.12e+02</td>\n",
       "      <td>212.00</td>\n",
       "      <td>212.00</td>\n",
       "      <td>212.00</td>\n",
       "    </tr>\n",
       "    <tr>\n",
       "      <th>mean</th>\n",
       "      <td>4066.43</td>\n",
       "      <td>1539.29</td>\n",
       "      <td>3.88</td>\n",
       "      <td>1.08e+05</td>\n",
       "      <td>2530.60</td>\n",
       "      <td>3.82</td>\n",
       "      <td>-0.06</td>\n",
       "    </tr>\n",
       "    <tr>\n",
       "      <th>std</th>\n",
       "      <td>3054.70</td>\n",
       "      <td>711.47</td>\n",
       "      <td>0.22</td>\n",
       "      <td>2.35e+05</td>\n",
       "      <td>4495.36</td>\n",
       "      <td>0.23</td>\n",
       "      <td>0.06</td>\n",
       "    </tr>\n",
       "    <tr>\n",
       "      <th>min</th>\n",
       "      <td>10.00</td>\n",
       "      <td>-762.00</td>\n",
       "      <td>3.09</td>\n",
       "      <td>9.34e+03</td>\n",
       "      <td>57.00</td>\n",
       "      <td>2.99</td>\n",
       "      <td>-0.27</td>\n",
       "    </tr>\n",
       "    <tr>\n",
       "      <th>25%</th>\n",
       "      <td>1205.00</td>\n",
       "      <td>1603.00</td>\n",
       "      <td>3.76</td>\n",
       "      <td>1.59e+04</td>\n",
       "      <td>565.75</td>\n",
       "      <td>3.69</td>\n",
       "      <td>-0.10</td>\n",
       "    </tr>\n",
       "    <tr>\n",
       "      <th>50%</th>\n",
       "      <td>3597.00</td>\n",
       "      <td>1834.50</td>\n",
       "      <td>3.88</td>\n",
       "      <td>3.20e+04</td>\n",
       "      <td>1064.00</td>\n",
       "      <td>3.81</td>\n",
       "      <td>-0.06</td>\n",
       "    </tr>\n",
       "    <tr>\n",
       "      <th>75%</th>\n",
       "      <td>6715.75</td>\n",
       "      <td>1884.50</td>\n",
       "      <td>4.01</td>\n",
       "      <td>8.56e+04</td>\n",
       "      <td>2615.25</td>\n",
       "      <td>3.96</td>\n",
       "      <td>-0.03</td>\n",
       "    </tr>\n",
       "    <tr>\n",
       "      <th>max</th>\n",
       "      <td>9995.00</td>\n",
       "      <td>1939.00</td>\n",
       "      <td>4.63</td>\n",
       "      <td>2.19e+06</td>\n",
       "      <td>49152.00</td>\n",
       "      <td>4.62</td>\n",
       "      <td>0.18</td>\n",
       "    </tr>\n",
       "  </tbody>\n",
       "</table>\n",
       "</div>"
      ],
      "text/plain": [
       "       book_id  original_publication_year  average_rating  work_ratings_count  \\\n",
       "count   212.00                     212.00          212.00            2.12e+02   \n",
       "mean   4066.43                    1539.29            3.88            1.08e+05   \n",
       "std    3054.70                     711.47            0.22            2.35e+05   \n",
       "min      10.00                    -762.00            3.09            9.34e+03   \n",
       "25%    1205.00                    1603.00            3.76            1.59e+04   \n",
       "50%    3597.00                    1834.50            3.88            3.20e+04   \n",
       "75%    6715.75                    1884.50            4.01            8.56e+04   \n",
       "max    9995.00                    1939.00            4.63            2.19e+06   \n",
       "\n",
       "       work_text_reviews_count  rating  deviation  \n",
       "count                   212.00  212.00     212.00  \n",
       "mean                   2530.60    3.82      -0.06  \n",
       "std                    4495.36    0.23       0.06  \n",
       "min                      57.00    2.99      -0.27  \n",
       "25%                     565.75    3.69      -0.10  \n",
       "50%                    1064.00    3.81      -0.06  \n",
       "75%                    2615.25    3.96      -0.03  \n",
       "max                   49152.00    4.62       0.18  "
      ]
     },
     "execution_count": 235,
     "metadata": {},
     "output_type": "execute_result"
    }
   ],
   "source": [
    "#Classics in dataset recommended by Mortimer Adler's reading list. \n",
    "#Authors\n",
    "authors = ['Homer', 'Aeschylus', 'Sophocles', 'Herodotus', 'Euripides', 'Thucydides', 'Hippocrates', 'Aristophanes', 'Plato', 'Aristotle', 'Epicurus', 'Euclid', 'Archimedes', 'Perga', 'Cicero', 'Lucretius', 'Virgil', 'Horace', 'Livy', 'Ovid', 'Plutarch', 'Tacitus', 'Gerasa', 'Epictetus', 'Ptolemy', 'Lucian', 'Aurelius', 'Galen', 'Plotinus', 'Augustine', 'Aquinas', 'Alighieri', 'Chaucer', 'Vinci', 'Machiavelli', 'Erasmus', 'Copernicus', 'More', 'Luther', 'Rabelais', 'Calvin', 'Montaigne', 'Gilbert', 'Cervantes', 'Spenser', 'Bacon', 'Shakespeare', 'Galilei', 'Kepler', 'Harvey', 'Hobbes', 'Descartes', 'Milton', 'Molière', 'Pascal', 'Huygens', 'Spinoza', 'Locke', 'Racine', 'Newton', 'Leibniz', 'Defoe', 'Swift', 'Congreve', 'Berkeley', 'Pope', 'Montesquieu', 'Voltaire', 'Fielding', 'Johnson', 'Hume', 'Rousseau', 'Sterne', 'Smith', 'Kant', 'Gibbon', 'Boswell', 'Lavoisier', 'Madison', 'Bentham', 'Goethe', 'Fourier', 'Hegel', 'Wordsworth', 'Coleridge', 'Austen', 'Clausewitz', 'Stendhal', 'Byron', 'Schopenhauer', 'Faraday', 'Lyell', 'Comte', 'Balzac', 'Emerson', 'Hawthorne', 'Tocqueville', 'Mill', 'Darwin', 'Dickens', 'Bernard', 'Thoreau', 'Marx', 'Eliot', 'Melville', 'Dostoevsky', 'Flaubert', 'Ibsen', 'Tolstoy', 'Twain', 'James', 'James', 'Nietzsche', 'Poincare', 'Freud', 'Shaw', 'Planck', 'Bergson', 'Dewey', 'Whitehead', 'Santayana', 'Lenin', 'Proust', 'Russell', 'Mann', 'Einstein', 'Joyce', 'Maritain', 'Kafka', 'Toynbee', 'Sartre', 'Solzhenitsyn']\n",
    "\n",
    "t = book_classics[book_classics['authors'].str.contains('|'.join(authors))]\n",
    "t.describe()\n",
    "#t.sort_values(by=['work_text_reviews_count'], ascending=False)"
   ]
  },
  {
   "cell_type": "code",
   "execution_count": null,
   "metadata": {},
   "outputs": [],
   "source": [
    "https://www.nytimes.com/2017/06/01/opinion/sunday/popular-people-live-longer.html"
   ]
  }
 ],
 "metadata": {
  "kernelspec": {
   "display_name": "Python 3",
   "language": "python",
   "name": "python3"
  },
  "language_info": {
   "codemirror_mode": {
    "name": "ipython",
    "version": 3
   },
   "file_extension": ".py",
   "mimetype": "text/x-python",
   "name": "python",
   "nbconvert_exporter": "python",
   "pygments_lexer": "ipython3",
   "version": "3.7.7"
  }
 },
 "nbformat": 4,
 "nbformat_minor": 4
}
