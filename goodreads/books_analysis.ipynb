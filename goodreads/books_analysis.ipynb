{
 "cells": [
  {
   "cell_type": "code",
   "execution_count": 339,
   "metadata": {},
   "outputs": [],
   "source": [
    "import pandas as pd\n",
    "import numpy as np\n",
    "import re\n",
    "import seaborn as sns\n",
    "\n",
    "%matplotlib inline\n",
    "#data from https://github.com/zygmuntz/goodbooks-10k\n",
    "ratings = pd.read_csv( 'data/ratings.csv' )\n",
    "to_read = pd.read_csv( 'data/to_read.csv' )\n",
    "books = pd.read_csv( 'data/books.csv' )\n",
    "tags = pd.read_csv( 'data/tags.csv' )\n",
    "book_tags = pd.read_csv( 'data/book_tags.csv')\n",
    "\n",
    "pd.set_option(\"display.precision\", 2)"
   ]
  },
  {
   "cell_type": "code",
   "execution_count": 340,
   "metadata": {},
   "outputs": [
    {
     "name": "stdout",
     "output_type": "stream",
     "text": [
      "books--> (10000, 23) ratings--> (5976479, 3)\n"
     ]
    },
    {
     "data": {
      "text/html": [
       "<div>\n",
       "<style scoped>\n",
       "    .dataframe tbody tr th:only-of-type {\n",
       "        vertical-align: middle;\n",
       "    }\n",
       "\n",
       "    .dataframe tbody tr th {\n",
       "        vertical-align: top;\n",
       "    }\n",
       "\n",
       "    .dataframe thead th {\n",
       "        text-align: right;\n",
       "    }\n",
       "</style>\n",
       "<table border=\"1\" class=\"dataframe\">\n",
       "  <thead>\n",
       "    <tr style=\"text-align: right;\">\n",
       "      <th></th>\n",
       "      <th>goodreads_book_id</th>\n",
       "      <th>tag_id</th>\n",
       "      <th>count</th>\n",
       "    </tr>\n",
       "  </thead>\n",
       "  <tbody>\n",
       "    <tr>\n",
       "      <th>999907</th>\n",
       "      <td>33288638</td>\n",
       "      <td>21303</td>\n",
       "      <td>7</td>\n",
       "    </tr>\n",
       "    <tr>\n",
       "      <th>999908</th>\n",
       "      <td>33288638</td>\n",
       "      <td>17271</td>\n",
       "      <td>7</td>\n",
       "    </tr>\n",
       "    <tr>\n",
       "      <th>999909</th>\n",
       "      <td>33288638</td>\n",
       "      <td>1126</td>\n",
       "      <td>7</td>\n",
       "    </tr>\n",
       "    <tr>\n",
       "      <th>999910</th>\n",
       "      <td>33288638</td>\n",
       "      <td>11478</td>\n",
       "      <td>7</td>\n",
       "    </tr>\n",
       "    <tr>\n",
       "      <th>999911</th>\n",
       "      <td>33288638</td>\n",
       "      <td>27939</td>\n",
       "      <td>7</td>\n",
       "    </tr>\n",
       "  </tbody>\n",
       "</table>\n",
       "</div>"
      ],
      "text/plain": [
       "        goodreads_book_id  tag_id  count\n",
       "999907           33288638   21303      7\n",
       "999908           33288638   17271      7\n",
       "999909           33288638    1126      7\n",
       "999910           33288638   11478      7\n",
       "999911           33288638   27939      7"
      ]
     },
     "execution_count": 340,
     "metadata": {},
     "output_type": "execute_result"
    }
   ],
   "source": [
    "print ('books-->', books.shape , 'ratings-->' ,ratings.shape)\n",
    "ratings.describe()\n",
    "book_tags.tail()"
   ]
  },
  {
   "cell_type": "code",
   "execution_count": 341,
   "metadata": {},
   "outputs": [
    {
     "data": {
      "text/html": [
       "<div>\n",
       "<style scoped>\n",
       "    .dataframe tbody tr th:only-of-type {\n",
       "        vertical-align: middle;\n",
       "    }\n",
       "\n",
       "    .dataframe tbody tr th {\n",
       "        vertical-align: top;\n",
       "    }\n",
       "\n",
       "    .dataframe thead th {\n",
       "        text-align: right;\n",
       "    }\n",
       "</style>\n",
       "<table border=\"1\" class=\"dataframe\">\n",
       "  <thead>\n",
       "    <tr style=\"text-align: right;\">\n",
       "      <th></th>\n",
       "      <th>book_id</th>\n",
       "      <th>original_publication_year</th>\n",
       "      <th>average_rating</th>\n",
       "      <th>work_ratings_count</th>\n",
       "      <th>work_text_reviews_count</th>\n",
       "    </tr>\n",
       "  </thead>\n",
       "  <tbody>\n",
       "    <tr>\n",
       "      <th>count</th>\n",
       "      <td>10000.00</td>\n",
       "      <td>9979.00</td>\n",
       "      <td>10000.00</td>\n",
       "      <td>1.00e+04</td>\n",
       "      <td>10000.00</td>\n",
       "    </tr>\n",
       "    <tr>\n",
       "      <th>mean</th>\n",
       "      <td>5000.50</td>\n",
       "      <td>1981.99</td>\n",
       "      <td>4.00</td>\n",
       "      <td>5.97e+04</td>\n",
       "      <td>2919.96</td>\n",
       "    </tr>\n",
       "    <tr>\n",
       "      <th>std</th>\n",
       "      <td>2886.90</td>\n",
       "      <td>152.58</td>\n",
       "      <td>0.25</td>\n",
       "      <td>1.68e+05</td>\n",
       "      <td>6124.38</td>\n",
       "    </tr>\n",
       "    <tr>\n",
       "      <th>min</th>\n",
       "      <td>1.00</td>\n",
       "      <td>-1750.00</td>\n",
       "      <td>2.47</td>\n",
       "      <td>5.51e+03</td>\n",
       "      <td>3.00</td>\n",
       "    </tr>\n",
       "    <tr>\n",
       "      <th>25%</th>\n",
       "      <td>2500.75</td>\n",
       "      <td>1990.00</td>\n",
       "      <td>3.85</td>\n",
       "      <td>1.54e+04</td>\n",
       "      <td>694.00</td>\n",
       "    </tr>\n",
       "    <tr>\n",
       "      <th>50%</th>\n",
       "      <td>5000.50</td>\n",
       "      <td>2004.00</td>\n",
       "      <td>4.02</td>\n",
       "      <td>2.38e+04</td>\n",
       "      <td>1402.00</td>\n",
       "    </tr>\n",
       "    <tr>\n",
       "      <th>75%</th>\n",
       "      <td>7500.25</td>\n",
       "      <td>2011.00</td>\n",
       "      <td>4.18</td>\n",
       "      <td>4.59e+04</td>\n",
       "      <td>2744.25</td>\n",
       "    </tr>\n",
       "    <tr>\n",
       "      <th>max</th>\n",
       "      <td>10000.00</td>\n",
       "      <td>2017.00</td>\n",
       "      <td>4.82</td>\n",
       "      <td>4.94e+06</td>\n",
       "      <td>155254.00</td>\n",
       "    </tr>\n",
       "  </tbody>\n",
       "</table>\n",
       "</div>"
      ],
      "text/plain": [
       "        book_id  original_publication_year  average_rating  \\\n",
       "count  10000.00                    9979.00        10000.00   \n",
       "mean    5000.50                    1981.99            4.00   \n",
       "std     2886.90                     152.58            0.25   \n",
       "min        1.00                   -1750.00            2.47   \n",
       "25%     2500.75                    1990.00            3.85   \n",
       "50%     5000.50                    2004.00            4.02   \n",
       "75%     7500.25                    2011.00            4.18   \n",
       "max    10000.00                    2017.00            4.82   \n",
       "\n",
       "       work_ratings_count  work_text_reviews_count  \n",
       "count            1.00e+04                 10000.00  \n",
       "mean             5.97e+04                  2919.96  \n",
       "std              1.68e+05                  6124.38  \n",
       "min              5.51e+03                     3.00  \n",
       "25%              1.54e+04                   694.00  \n",
       "50%              2.38e+04                  1402.00  \n",
       "75%              4.59e+04                  2744.25  \n",
       "max              4.94e+06                155254.00  "
      ]
     },
     "execution_count": 341,
     "metadata": {},
     "output_type": "execute_result"
    }
   ],
   "source": [
    "\n",
    "books.columns.values\n",
    "books_summary = books[['book_id','title', 'authors', 'original_publication_year','average_rating', 'work_ratings_count','work_text_reviews_count']]\n",
    "books_summary.describe()"
   ]
  },
  {
   "cell_type": "code",
   "execution_count": 342,
   "metadata": {
    "scrolled": true
   },
   "outputs": [],
   "source": [
    "#Show distribution of users based on number of books rated\n",
    "ratings_per_user = ratings.groupby('user_id').user_id.apply(lambda x: len(x))\n",
    "#.user_id.apply( lambda x: len( x ))\n",
    "#ratings_per_user.hist(bins=40)\n",
    "#ratings_per_user.describe()\n",
    "#ratings['u'].hist(by=df['ser'])\n",
    "#ratings.columns.values\n"
   ]
  },
  {
   "cell_type": "code",
   "execution_count": 343,
   "metadata": {},
   "outputs": [
    {
     "data": {
      "text/plain": [
       "<matplotlib.axes._subplots.AxesSubplot at 0x120579250>"
      ]
     },
     "execution_count": 343,
     "metadata": {},
     "output_type": "execute_result"
    },
    {
     "data": {
      "image/png": "[encoded data removed]",
      "text/plain": [
       "<Figure size 432x288 with 1 Axes>"
      ]
     },
     "metadata": {
      "needs_background": "light"
     },
     "output_type": "display_data"
    }
   ],
   "source": [
    "ratings_per_user.sort_values().hist(bins=40)"
   ]
  },
  {
   "cell_type": "markdown",
   "metadata": {},
   "source": [
    "The dataset contains only users who have rated at least 19 books and average user has rated 111 books. The max user has rated 200 books implying reading and rating a book a month for 16 years :-)"
   ]
  },
  {
   "cell_type": "code",
   "execution_count": 344,
   "metadata": {},
   "outputs": [
    {
     "data": {
      "text/plain": [
       "<matplotlib.axes._subplots.AxesSubplot at 0x11db405d0>"
      ]
     },
     "execution_count": 344,
     "metadata": {},
     "output_type": "execute_result"
    },
    {
     "data": {
      "image/png": "[encoded data removed]",
      "text/plain": [
       "<Figure size 432x288 with 1 Axes>"
      ]
     },
     "metadata": {
      "needs_background": "light"
     },
     "output_type": "display_data"
    }
   ],
   "source": [
    "#ratings.boxplot(column='rating')\n",
    "#ratings.rating.describe()\n",
    "ratings_per_book = ratings.groupby('book_id').book_id.apply( lambda x: np.log10(len( x )))\n",
    "#ratings_per_book.head()\n",
    "#ratings_per_book.plot.density()\n",
    "ratings_per_book.sort_values().hist(bins=40)"
   ]
  },
  {
   "cell_type": "markdown",
   "metadata": {},
   "source": [
    "Each book has at least 8 ratings and average book has 248 ratings from a user. Note: User is somebody who has rated at least 19 books."
   ]
  },
  {
   "cell_type": "markdown",
   "metadata": {},
   "source": [
    "# The Books with most ratings are:"
   ]
  },
  {
   "cell_type": "code",
   "execution_count": 345,
   "metadata": {},
   "outputs": [
    {
     "name": "stdout",
     "output_type": "stream",
     "text": [
      "Harry Potter and the Philosopher's Stone\n",
      "Twilight\n",
      "The Great Gatsby\n",
      "To Kill a Mockingbird\n",
      "The Fault in Our Stars\n",
      "Harry Potter and the Prisoner of Azkaban\n",
      "Harry Potter and the Order of the Phoenix\n",
      " The Fellowship of the Ring\n",
      "Harry Potter and the Goblet of Fire\n",
      "The Catcher in the Rye\n"
     ]
    }
   ],
   "source": [
    "book_id = ratings_per_book.sort_values(ascending=False).index.tolist()[:10]\n",
    "popularity_most_ratings = books.iloc[book_id].original_title.to_list()\n",
    "print (*popularity_most_ratings, sep='\\n')"
   ]
  },
  {
   "cell_type": "markdown",
   "metadata": {},
   "source": [
    "# The Books with best average ratings\n",
    "Note: ratings only from user who has rated at least 19 books."
   ]
  },
  {
   "cell_type": "code",
   "execution_count": 346,
   "metadata": {
    "scrolled": true
   },
   "outputs": [
    {
     "name": "stdout",
     "output_type": "stream",
     "text": [
      "Ranma ½, Vol. 1 (Ranma ½ (US 2nd), #1)\n",
      "Wired (Wired, #1)\n",
      "Crewel (Crewel World, #1)\n",
      "Funny in Farsi: A Memoir of Growing Up Iranian in America\n",
      "The Case-Book of Sherlock Holmes\n",
      "Boys Over Flowers: Hana Yori Dango, Vol. 1 (Boys Over Flowers, #1)\n",
      "Cloudstreet\n",
      "Avatar: The Last Airbender (The Promise, #1)\n",
      "Skeleton Key (Alex Rider, #3)\n",
      "Dreamland\n"
     ]
    },
    {
     "data": {
      "image/png": "[encoded data removed]",
      "text/plain": [
       "<Figure size 432x288 with 1 Axes>"
      ]
     },
     "metadata": {
      "needs_background": "light"
     },
     "output_type": "display_data"
    }
   ],
   "source": [
    "\n",
    "avg_ratings_per_book = ratings.groupby('book_id').rating.mean()\n",
    "avg_ratings_per_book.hist(bins=40)\n",
    "high_rated_books = avg_ratings_per_book.sort_values(ascending=False).index.tolist()[:10]\n",
    "popularity_avg_ratings = books.iloc[high_rated_books].title.to_list()\n",
    "print (*popularity_avg_ratings, sep='\\n')"
   ]
  },
  {
   "cell_type": "code",
   "execution_count": 347,
   "metadata": {},
   "outputs": [
    {
     "data": {
      "text/html": [
       "<div>\n",
       "<style scoped>\n",
       "    .dataframe tbody tr th:only-of-type {\n",
       "        vertical-align: middle;\n",
       "    }\n",
       "\n",
       "    .dataframe tbody tr th {\n",
       "        vertical-align: top;\n",
       "    }\n",
       "\n",
       "    .dataframe thead th {\n",
       "        text-align: right;\n",
       "    }\n",
       "</style>\n",
       "<table border=\"1\" class=\"dataframe\">\n",
       "  <thead>\n",
       "    <tr style=\"text-align: right;\">\n",
       "      <th></th>\n",
       "      <th>book_id</th>\n",
       "      <th>original_publication_year</th>\n",
       "      <th>average_rating</th>\n",
       "      <th>work_ratings_count</th>\n",
       "      <th>work_text_reviews_count</th>\n",
       "      <th>rating</th>\n",
       "      <th>deviation</th>\n",
       "      <th>ratings/review_count</th>\n",
       "    </tr>\n",
       "  </thead>\n",
       "  <tbody>\n",
       "    <tr>\n",
       "      <th>count</th>\n",
       "      <td>10000.00</td>\n",
       "      <td>9979.00</td>\n",
       "      <td>10000.00</td>\n",
       "      <td>1.00e+04</td>\n",
       "      <td>10000.00</td>\n",
       "      <td>10000.00</td>\n",
       "      <td>10000.00</td>\n",
       "      <td>10000.00</td>\n",
       "    </tr>\n",
       "    <tr>\n",
       "      <th>mean</th>\n",
       "      <td>5000.50</td>\n",
       "      <td>1981.99</td>\n",
       "      <td>4.00</td>\n",
       "      <td>5.97e+04</td>\n",
       "      <td>2919.96</td>\n",
       "      <td>3.90</td>\n",
       "      <td>-0.10</td>\n",
       "      <td>33.59</td>\n",
       "    </tr>\n",
       "    <tr>\n",
       "      <th>std</th>\n",
       "      <td>2886.90</td>\n",
       "      <td>152.58</td>\n",
       "      <td>0.25</td>\n",
       "      <td>1.68e+05</td>\n",
       "      <td>6124.38</td>\n",
       "      <td>0.29</td>\n",
       "      <td>0.10</td>\n",
       "      <td>75.06</td>\n",
       "    </tr>\n",
       "    <tr>\n",
       "      <th>min</th>\n",
       "      <td>1.00</td>\n",
       "      <td>-1750.00</td>\n",
       "      <td>2.47</td>\n",
       "      <td>5.51e+03</td>\n",
       "      <td>3.00</td>\n",
       "      <td>2.08</td>\n",
       "      <td>-0.93</td>\n",
       "      <td>3.65</td>\n",
       "    </tr>\n",
       "    <tr>\n",
       "      <th>25%</th>\n",
       "      <td>2500.75</td>\n",
       "      <td>1990.00</td>\n",
       "      <td>3.85</td>\n",
       "      <td>1.54e+04</td>\n",
       "      <td>694.00</td>\n",
       "      <td>3.73</td>\n",
       "      <td>-0.15</td>\n",
       "      <td>11.51</td>\n",
       "    </tr>\n",
       "    <tr>\n",
       "      <th>50%</th>\n",
       "      <td>5000.50</td>\n",
       "      <td>2004.00</td>\n",
       "      <td>4.02</td>\n",
       "      <td>2.38e+04</td>\n",
       "      <td>1402.00</td>\n",
       "      <td>3.92</td>\n",
       "      <td>-0.09</td>\n",
       "      <td>19.72</td>\n",
       "    </tr>\n",
       "    <tr>\n",
       "      <th>75%</th>\n",
       "      <td>7500.25</td>\n",
       "      <td>2011.00</td>\n",
       "      <td>4.18</td>\n",
       "      <td>4.59e+04</td>\n",
       "      <td>2744.25</td>\n",
       "      <td>4.10</td>\n",
       "      <td>-0.04</td>\n",
       "      <td>35.09</td>\n",
       "    </tr>\n",
       "    <tr>\n",
       "      <th>max</th>\n",
       "      <td>10000.00</td>\n",
       "      <td>2017.00</td>\n",
       "      <td>4.82</td>\n",
       "      <td>4.94e+06</td>\n",
       "      <td>155254.00</td>\n",
       "      <td>4.83</td>\n",
       "      <td>0.51</td>\n",
       "      <td>3702.00</td>\n",
       "    </tr>\n",
       "  </tbody>\n",
       "</table>\n",
       "</div>"
      ],
      "text/plain": [
       "        book_id  original_publication_year  average_rating  \\\n",
       "count  10000.00                    9979.00        10000.00   \n",
       "mean    5000.50                    1981.99            4.00   \n",
       "std     2886.90                     152.58            0.25   \n",
       "min        1.00                   -1750.00            2.47   \n",
       "25%     2500.75                    1990.00            3.85   \n",
       "50%     5000.50                    2004.00            4.02   \n",
       "75%     7500.25                    2011.00            4.18   \n",
       "max    10000.00                    2017.00            4.82   \n",
       "\n",
       "       work_ratings_count  work_text_reviews_count    rating  deviation  \\\n",
       "count            1.00e+04                 10000.00  10000.00   10000.00   \n",
       "mean             5.97e+04                  2919.96      3.90      -0.10   \n",
       "std              1.68e+05                  6124.38      0.29       0.10   \n",
       "min              5.51e+03                     3.00      2.08      -0.93   \n",
       "25%              1.54e+04                   694.00      3.73      -0.15   \n",
       "50%              2.38e+04                  1402.00      3.92      -0.09   \n",
       "75%              4.59e+04                  2744.25      4.10      -0.04   \n",
       "max              4.94e+06                155254.00      4.83       0.51   \n",
       "\n",
       "       ratings/review_count  \n",
       "count              10000.00  \n",
       "mean                  33.59  \n",
       "std                   75.06  \n",
       "min                    3.65  \n",
       "25%                   11.51  \n",
       "50%                   19.72  \n",
       "75%                   35.09  \n",
       "max                 3702.00  "
      ]
     },
     "execution_count": 347,
     "metadata": {},
     "output_type": "execute_result"
    }
   ],
   "source": [
    "books_summary_expert_rating= books_summary.merge( avg_ratings_per_book, on = 'book_id')\n",
    "books_summary_expert_rating[\"deviation\"] = books_summary_expert_rating[\"rating\"]-books_summary_expert_rating[\"average_rating\"]\n",
    "books_summary_expert_rating[\"ratings/review_count\"] = books_summary_expert_rating[\"work_ratings_count\"]/books_summary_expert_rating[\"work_text_reviews_count\"]\n",
    "books_summary_expert_rating.describe()\n",
    "#book_classics = books_summary_expert_rating[books_summary_expert_rating['original_publication_year'] < 1940]\n",
    "#book_modern = books_summary_expert_rating[books_summary_expert_rating['original_publication_year'] >= 1940]\n",
    "#avg_expert_rating_classics = book_classics['average_rating'].mean()\n",
    "#avg_expert_rating_modern = book_modern['average_rating'].mean()\n",
    "#print (avg_expert_rating_classics, avg_expert_rating_modern)\n",
    "#underrated books\n",
    "#book_classics.sort_values(by=['original_publication_year'])[240:260]\n",
    "#book_classics.sort_values(by=['work_text_reviews_count'])\n"
   ]
  },
  {
   "cell_type": "markdown",
   "metadata": {},
   "source": [
    "# Genres"
   ]
  },
  {
   "cell_type": "code",
   "execution_count": 455,
   "metadata": {},
   "outputs": [
    {
     "data": {
      "text/plain": [
       "<matplotlib.axes._subplots.AxesSubplot at 0x127c50190>"
      ]
     },
     "execution_count": 455,
     "metadata": {},
     "output_type": "execute_result"
    },
    {
     "data": {
      "image/png": "[encoded data removed]",
      "text/plain": [
       "<Figure size 432x288 with 1 Axes>"
      ]
     },
     "metadata": {
      "needs_background": "light"
     },
     "output_type": "display_data"
    }
   ],
   "source": [
    "genres = [\"Art\", \"Biography\", \"Business\", \"Chick Lit\", \"Children's\", \"Christian\", \"Classics\", \"Comics\",\n",
    "\"Contemporary\", \"Cookbooks\", \"Crime\", \"Ebooks\", \"Fantasy\", \"Fiction\", \"Gay and Lesbian\", \"Graphic Novels\", \n",
    "\"Historical Fiction\", \"History\", \"Horror\", \"Humor and Comedy\", \"Manga\", \"Memoir\", \"Music\", \"Mystery\", \"Nonfiction\", \n",
    "\"Paranormal\", \"Philosophy\", \"Poetry\", \"Psychology\", \"Religion\", \"Romance\", \"Science\", \"Science Fiction\", \n",
    "\"Self Help\", \"Suspense\", \"Spirituality\", \"Sports\", \"Thriller\", \"Travel\", \"Young Adult\"]\n",
    "genre_lower = list(map(lambda x:x.lower(), genres))\n",
    "pat = r'+$|'.join(genre_lower)\n",
    "considered_tags = tags[tags.tag_name.str.match(pat)]\n",
    "considered_tags_id = considered_tags.tag_id.tolist()\n",
    "considered_book_tags = book_tags[book_tags.tag_id.isin(considered_tags_id)]\n",
    "\n",
    "genres_count = considered_book_tags.groupby('tag_id')[\"count\"].sum().sort_values()\n",
    "\n",
    "#considered_book_tags\n",
    "popular_tags_id = genres_count.sort_values(ascending=False).index.tolist()[:10]\n",
    "\n",
    "#genres_count.head()\n",
    "#print ('top 10 popular tags:'+repr(tags.iloc[popular_tags_id].tag_name.tolist()))\n",
    "#print (popular_tags_id)\n",
    "#tags[tags.tag_id==11743]\n",
    "sns.barplot(x=genres_count.index, y=genres_count.values)    \n",
    "#ratings_per_book = ratings.groupby('book_id').book_id.apply( lambda x: np.log10(len( x )))\n",
    "#print (pat)\n",
    "#print(genre_lower)\n",
    "#book_tags.head() #book_id, tag_id, count\n",
    "#tags[tags.tag_id==30574] #tag_id, tag_name #tags[(tags.tag_name==\"art\")|(tags.tag_name==\"crime\")]\n",
    "#book_classics[book_classics['authors'].str.contains('|'.join(authors))]"
   ]
  },
  {
   "cell_type": "code",
   "execution_count": 349,
   "metadata": {},
   "outputs": [
    {
     "data": {
      "text/html": [
       "<div>\n",
       "<style scoped>\n",
       "    .dataframe tbody tr th:only-of-type {\n",
       "        vertical-align: middle;\n",
       "    }\n",
       "\n",
       "    .dataframe tbody tr th {\n",
       "        vertical-align: top;\n",
       "    }\n",
       "\n",
       "    .dataframe thead th {\n",
       "        text-align: right;\n",
       "    }\n",
       "</style>\n",
       "<table border=\"1\" class=\"dataframe\">\n",
       "  <thead>\n",
       "    <tr style=\"text-align: right;\">\n",
       "      <th></th>\n",
       "      <th>book_id</th>\n",
       "      <th>title</th>\n",
       "      <th>authors</th>\n",
       "      <th>original_publication_year</th>\n",
       "      <th>average_rating</th>\n",
       "      <th>work_ratings_count</th>\n",
       "      <th>work_text_reviews_count</th>\n",
       "      <th>rating</th>\n",
       "      <th>deviation</th>\n",
       "      <th>ratings/review_count</th>\n",
       "    </tr>\n",
       "  </thead>\n",
       "  <tbody>\n",
       "    <tr>\n",
       "      <th>7635</th>\n",
       "      <td>7636</td>\n",
       "      <td>Of Course I Love You...! Till I Find Someone B...</td>\n",
       "      <td>Durjoy Datta, Maanvi Ahuja</td>\n",
       "      <td>2008.0</td>\n",
       "      <td>3.21</td>\n",
       "      <td>9661</td>\n",
       "      <td>301</td>\n",
       "      <td>2.28</td>\n",
       "      <td>-0.93</td>\n",
       "      <td>32.10</td>\n",
       "    </tr>\n",
       "    <tr>\n",
       "      <th>4044</th>\n",
       "      <td>4045</td>\n",
       "      <td>Half Girlfriend</td>\n",
       "      <td>Chetan Bhagat</td>\n",
       "      <td>2014.0</td>\n",
       "      <td>3.16</td>\n",
       "      <td>27146</td>\n",
       "      <td>2067</td>\n",
       "      <td>2.25</td>\n",
       "      <td>-0.91</td>\n",
       "      <td>13.13</td>\n",
       "    </tr>\n",
       "    <tr>\n",
       "      <th>9344</th>\n",
       "      <td>9345</td>\n",
       "      <td>Diary ng Panget</td>\n",
       "      <td>HaveYouSeenThisGirL, Jan Irene Villar</td>\n",
       "      <td>2013.0</td>\n",
       "      <td>4.40</td>\n",
       "      <td>7045</td>\n",
       "      <td>401</td>\n",
       "      <td>3.55</td>\n",
       "      <td>-0.85</td>\n",
       "      <td>17.57</td>\n",
       "    </tr>\n",
       "    <tr>\n",
       "      <th>4990</th>\n",
       "      <td>4991</td>\n",
       "      <td>Can Love Happen Twice?</td>\n",
       "      <td>Ravinder Singh</td>\n",
       "      <td>2011.0</td>\n",
       "      <td>3.31</td>\n",
       "      <td>16172</td>\n",
       "      <td>673</td>\n",
       "      <td>2.46</td>\n",
       "      <td>-0.85</td>\n",
       "      <td>24.03</td>\n",
       "    </tr>\n",
       "    <tr>\n",
       "      <th>9704</th>\n",
       "      <td>9705</td>\n",
       "      <td>The Lake (The Lake Trilogy #1)</td>\n",
       "      <td>AnnaLisa Grant</td>\n",
       "      <td>2013.0</td>\n",
       "      <td>3.75</td>\n",
       "      <td>9517</td>\n",
       "      <td>562</td>\n",
       "      <td>2.96</td>\n",
       "      <td>-0.79</td>\n",
       "      <td>16.93</td>\n",
       "    </tr>\n",
       "    <tr>\n",
       "      <th>5542</th>\n",
       "      <td>5543</td>\n",
       "      <td>Addicted</td>\n",
       "      <td>Zane</td>\n",
       "      <td>1998.0</td>\n",
       "      <td>4.26</td>\n",
       "      <td>15180</td>\n",
       "      <td>940</td>\n",
       "      <td>3.52</td>\n",
       "      <td>-0.74</td>\n",
       "      <td>16.15</td>\n",
       "    </tr>\n",
       "    <tr>\n",
       "      <th>2748</th>\n",
       "      <td>2749</td>\n",
       "      <td>I Too Had a Love Story</td>\n",
       "      <td>Ravinder Singh</td>\n",
       "      <td>2007.0</td>\n",
       "      <td>3.64</td>\n",
       "      <td>29161</td>\n",
       "      <td>1616</td>\n",
       "      <td>2.92</td>\n",
       "      <td>-0.72</td>\n",
       "      <td>18.05</td>\n",
       "    </tr>\n",
       "    <tr>\n",
       "      <th>9761</th>\n",
       "      <td>9762</td>\n",
       "      <td>Rich Dad's Guide to Investing: What the Rich I...</td>\n",
       "      <td>Robert T. Kiyosaki, Sharon L. Lechter</td>\n",
       "      <td>2000.0</td>\n",
       "      <td>3.94</td>\n",
       "      <td>8619</td>\n",
       "      <td>232</td>\n",
       "      <td>3.23</td>\n",
       "      <td>-0.71</td>\n",
       "      <td>37.15</td>\n",
       "    </tr>\n",
       "    <tr>\n",
       "      <th>5705</th>\n",
       "      <td>5706</td>\n",
       "      <td>حبيبتي بكماء</td>\n",
       "      <td>محمد السالم</td>\n",
       "      <td>2013.0</td>\n",
       "      <td>3.30</td>\n",
       "      <td>13439</td>\n",
       "      <td>1675</td>\n",
       "      <td>2.63</td>\n",
       "      <td>-0.67</td>\n",
       "      <td>8.02</td>\n",
       "    </tr>\n",
       "    <tr>\n",
       "      <th>33</th>\n",
       "      <td>34</td>\n",
       "      <td>Fifty Shades of Grey (Fifty Shades, #1)</td>\n",
       "      <td>E.L. James</td>\n",
       "      <td>2011.0</td>\n",
       "      <td>3.67</td>\n",
       "      <td>1436818</td>\n",
       "      <td>75437</td>\n",
       "      <td>3.09</td>\n",
       "      <td>-0.58</td>\n",
       "      <td>19.05</td>\n",
       "    </tr>\n",
       "  </tbody>\n",
       "</table>\n",
       "</div>"
      ],
      "text/plain": [
       "      book_id                                              title  \\\n",
       "7635     7636  Of Course I Love You...! Till I Find Someone B...   \n",
       "4044     4045                                    Half Girlfriend   \n",
       "9344     9345                                    Diary ng Panget   \n",
       "4990     4991                             Can Love Happen Twice?   \n",
       "9704     9705                     The Lake (The Lake Trilogy #1)   \n",
       "5542     5543                                           Addicted   \n",
       "2748     2749                             I Too Had a Love Story   \n",
       "9761     9762  Rich Dad's Guide to Investing: What the Rich I...   \n",
       "5705     5706                                       حبيبتي بكماء   \n",
       "33         34            Fifty Shades of Grey (Fifty Shades, #1)   \n",
       "\n",
       "                                    authors  original_publication_year  \\\n",
       "7635             Durjoy Datta, Maanvi Ahuja                     2008.0   \n",
       "4044                          Chetan Bhagat                     2014.0   \n",
       "9344  HaveYouSeenThisGirL, Jan Irene Villar                     2013.0   \n",
       "4990                         Ravinder Singh                     2011.0   \n",
       "9704                         AnnaLisa Grant                     2013.0   \n",
       "5542                                   Zane                     1998.0   \n",
       "2748                         Ravinder Singh                     2007.0   \n",
       "9761  Robert T. Kiyosaki, Sharon L. Lechter                     2000.0   \n",
       "5705                            محمد السالم                     2013.0   \n",
       "33                               E.L. James                     2011.0   \n",
       "\n",
       "      average_rating  work_ratings_count  work_text_reviews_count  rating  \\\n",
       "7635            3.21                9661                      301    2.28   \n",
       "4044            3.16               27146                     2067    2.25   \n",
       "9344            4.40                7045                      401    3.55   \n",
       "4990            3.31               16172                      673    2.46   \n",
       "9704            3.75                9517                      562    2.96   \n",
       "5542            4.26               15180                      940    3.52   \n",
       "2748            3.64               29161                     1616    2.92   \n",
       "9761            3.94                8619                      232    3.23   \n",
       "5705            3.30               13439                     1675    2.63   \n",
       "33              3.67             1436818                    75437    3.09   \n",
       "\n",
       "      deviation  ratings/review_count  \n",
       "7635      -0.93                 32.10  \n",
       "4044      -0.91                 13.13  \n",
       "9344      -0.85                 17.57  \n",
       "4990      -0.85                 24.03  \n",
       "9704      -0.79                 16.93  \n",
       "5542      -0.74                 16.15  \n",
       "2748      -0.72                 18.05  \n",
       "9761      -0.71                 37.15  \n",
       "5705      -0.67                  8.02  \n",
       "33        -0.58                 19.05  "
      ]
     },
     "execution_count": 349,
     "metadata": {},
     "output_type": "execute_result"
    }
   ],
   "source": [
    "#books_summary_expert_rating.sort_values(by=['ratings/review_count','rating','work_text_reviews_count']).head(10)\n",
    "#books_summary_expert_rating.sort_values(by=['work_text_reviews_count'],ascending=False).head(10)\n",
    "#books_summary_expert_rating.sort_values(by=['rating'],ascending=False).head(10)\n",
    "#books_summary_expert_rating.sort_values(by=['rating']).head(10)\n",
    "#books_summary_expert_rating.sort_values(by=['work_ratings_count'],ascending=False).head(10)\n",
    "#books_summary_expert_rating.sort_values(by=['deviation'],ascending=True).head(10)"
   ]
  },
  {
   "cell_type": "markdown",
   "metadata": {},
   "source": [
    "The following compilation of authors and books is recommended by Mortimer Adler's reading list from the book 'How to Read'. \n",
    "Several Authors are not in dataset as they may not have enough ratings/reviews. Mostly Scientific Works.\n",
    "Furthermore, several classics from eastern civilization are absent and the list should be extended."
   ]
  },
  {
   "cell_type": "code",
   "execution_count": 350,
   "metadata": {},
   "outputs": [
    {
     "data": {
      "text/html": [
       "<div>\n",
       "<style scoped>\n",
       "    .dataframe tbody tr th:only-of-type {\n",
       "        vertical-align: middle;\n",
       "    }\n",
       "\n",
       "    .dataframe tbody tr th {\n",
       "        vertical-align: top;\n",
       "    }\n",
       "\n",
       "    .dataframe thead th {\n",
       "        text-align: right;\n",
       "    }\n",
       "</style>\n",
       "<table border=\"1\" class=\"dataframe\">\n",
       "  <thead>\n",
       "    <tr style=\"text-align: right;\">\n",
       "      <th></th>\n",
       "      <th>book_id</th>\n",
       "      <th>original_publication_year</th>\n",
       "      <th>average_rating</th>\n",
       "      <th>work_ratings_count</th>\n",
       "      <th>work_text_reviews_count</th>\n",
       "      <th>rating</th>\n",
       "      <th>deviation</th>\n",
       "    </tr>\n",
       "  </thead>\n",
       "  <tbody>\n",
       "    <tr>\n",
       "      <th>count</th>\n",
       "      <td>204.00</td>\n",
       "      <td>204.00</td>\n",
       "      <td>204.00</td>\n",
       "      <td>2.04e+02</td>\n",
       "      <td>204.00</td>\n",
       "      <td>204.00</td>\n",
       "      <td>204.00</td>\n",
       "    </tr>\n",
       "    <tr>\n",
       "      <th>mean</th>\n",
       "      <td>4003.16</td>\n",
       "      <td>1527.23</td>\n",
       "      <td>3.88</td>\n",
       "      <td>1.11e+05</td>\n",
       "      <td>2555.81</td>\n",
       "      <td>3.82</td>\n",
       "      <td>-0.06</td>\n",
       "    </tr>\n",
       "    <tr>\n",
       "      <th>std</th>\n",
       "      <td>3036.06</td>\n",
       "      <td>722.71</td>\n",
       "      <td>0.20</td>\n",
       "      <td>2.39e+05</td>\n",
       "      <td>4575.33</td>\n",
       "      <td>0.21</td>\n",
       "      <td>0.06</td>\n",
       "    </tr>\n",
       "    <tr>\n",
       "      <th>min</th>\n",
       "      <td>10.00</td>\n",
       "      <td>-762.00</td>\n",
       "      <td>3.09</td>\n",
       "      <td>9.75e+03</td>\n",
       "      <td>57.00</td>\n",
       "      <td>3.09</td>\n",
       "      <td>-0.23</td>\n",
       "    </tr>\n",
       "    <tr>\n",
       "      <th>25%</th>\n",
       "      <td>1129.50</td>\n",
       "      <td>1600.75</td>\n",
       "      <td>3.76</td>\n",
       "      <td>1.60e+04</td>\n",
       "      <td>552.00</td>\n",
       "      <td>3.70</td>\n",
       "      <td>-0.10</td>\n",
       "    </tr>\n",
       "    <tr>\n",
       "      <th>50%</th>\n",
       "      <td>3597.00</td>\n",
       "      <td>1833.50</td>\n",
       "      <td>3.89</td>\n",
       "      <td>3.19e+04</td>\n",
       "      <td>930.00</td>\n",
       "      <td>3.81</td>\n",
       "      <td>-0.06</td>\n",
       "    </tr>\n",
       "    <tr>\n",
       "      <th>75%</th>\n",
       "      <td>6445.25</td>\n",
       "      <td>1881.25</td>\n",
       "      <td>4.01</td>\n",
       "      <td>9.08e+04</td>\n",
       "      <td>2628.50</td>\n",
       "      <td>3.94</td>\n",
       "      <td>-0.03</td>\n",
       "    </tr>\n",
       "    <tr>\n",
       "      <th>max</th>\n",
       "      <td>9995.00</td>\n",
       "      <td>1962.00</td>\n",
       "      <td>4.55</td>\n",
       "      <td>2.19e+06</td>\n",
       "      <td>49152.00</td>\n",
       "      <td>4.53</td>\n",
       "      <td>0.18</td>\n",
       "    </tr>\n",
       "  </tbody>\n",
       "</table>\n",
       "</div>"
      ],
      "text/plain": [
       "       book_id  original_publication_year  average_rating  work_ratings_count  \\\n",
       "count   204.00                     204.00          204.00            2.04e+02   \n",
       "mean   4003.16                    1527.23            3.88            1.11e+05   \n",
       "std    3036.06                     722.71            0.20            2.39e+05   \n",
       "min      10.00                    -762.00            3.09            9.75e+03   \n",
       "25%    1129.50                    1600.75            3.76            1.60e+04   \n",
       "50%    3597.00                    1833.50            3.89            3.19e+04   \n",
       "75%    6445.25                    1881.25            4.01            9.08e+04   \n",
       "max    9995.00                    1962.00            4.55            2.19e+06   \n",
       "\n",
       "       work_text_reviews_count  rating  deviation  \n",
       "count                   204.00  204.00     204.00  \n",
       "mean                   2555.81    3.82      -0.06  \n",
       "std                    4575.33    0.21       0.06  \n",
       "min                      57.00    3.09      -0.23  \n",
       "25%                     552.00    3.70      -0.10  \n",
       "50%                     930.00    3.81      -0.06  \n",
       "75%                    2628.50    3.94      -0.03  \n",
       "max                   49152.00    4.53       0.18  "
      ]
     },
     "execution_count": 350,
     "metadata": {},
     "output_type": "execute_result"
    }
   ],
   "source": [
    "#Classics in dataset recommended by Mortimer Adler's reading list. \n",
    "#Authors\n",
    "\n",
    "authors = ['Homer', 'Aeschylus', 'Sophocles', 'Herodotus', 'Euripides', 'Thucydides', \n",
    "           'Hippocrates', 'Aristophanes', 'Plato', 'Aristotle', 'Epicurus', 'Euclid', 'Archimedes', 'Perga', 'Cicero', \n",
    "           'Lucretius', 'Virgil', 'Horace', 'Livy', 'Ovid', 'Plutarch', 'Tacitus', 'Gerasa', 'Epictetus', 'Ptolemy', \n",
    "           'Lucian', 'Aurelius', 'Galen', 'Plotinus', 'Augustine', 'Aquinas', 'Alighieri', 'Chaucer', 'Vinci', \n",
    "           'Machiavelli', 'Erasmus', 'Copernicus', 'More', 'Luther', 'Rabelais', 'Calvin', 'Montaigne', 'Gilbert', \n",
    "           'Cervantes', 'Spenser', 'Bacon', 'Shakespeare', 'Galilei', 'Kepler', 'Harvey', 'Hobbes', 'Descartes', 'Milton', \n",
    "           'Molière', 'Pascal', 'Huygens', 'Spinoza', 'Locke', 'Racine', 'Newton', 'Leibniz', 'Defoe', 'Swift', \n",
    "           'Congreve', 'Berkeley', 'Pope', 'Montesquieu', 'Voltaire', 'Fielding', 'Johnson', 'Hume', 'Rousseau', \n",
    "           'Sterne', 'Smith', 'Kant', 'Gibbon', 'Boswell', 'Lavoisier', 'Madison', 'Bentham', 'Goethe', 'Fourier', \n",
    "           'Hegel', 'Wordsworth', 'Coleridge', 'Austen', 'Clausewitz', 'Stendhal', 'Byron', 'Schopenhauer', 'Faraday', \n",
    "           'Lyell', 'Comte', 'Balzac', 'Emerson', 'Hawthorne', 'Tocqueville', 'Mill', 'Darwin', 'Dickens', 'Bernard', \n",
    "           'Thoreau', 'Marx', 'Eliot', 'Melville', 'Dostoevsky', 'Flaubert', 'Ibsen', 'Tolstoy', 'Twain', \n",
    "           'James', 'James', 'Nietzsche', 'Poincare', 'Freud', 'Shaw', 'Planck', 'Bergson', 'Dewey', 'Whitehead', \n",
    "           'Santayana', 'Lenin', 'Proust', 'Russell', 'Mann', 'Einstein', 'Joyce', 'Maritain', 'Kafka', 'Toynbee', \n",
    "           'Sartre', 'Solzhenitsyn']\n",
    "\n",
    "classics = pd.read_csv( 'data/classic.csv' )\n",
    "\n",
    "rated_classic_authors = classics['authors'].tolist()\n",
    "classics.describe()"
   ]
  },
  {
   "cell_type": "code",
   "execution_count": 351,
   "metadata": {},
   "outputs": [
    {
     "name": "stdout",
     "output_type": "stream",
     "text": [
      "number of unrated classic authors in data set: 56\n",
      "['Hippocrates', 'Epicurus', 'Euclid', 'Archimedes', 'Perga', 'Cicero', 'Lucretius', 'Horace', 'Livy', 'Plutarch', 'Tacitus', 'Gerasa', 'Epictetus', 'Ptolemy', 'Lucian', 'Galen', 'Plotinus', 'Aquinas', 'Erasmus', 'Copernicus', 'Luther', 'Calvin', 'Montaigne', 'Bacon', 'Galilei', 'Kepler', 'Harvey', 'Pascal', 'Huygens', 'Racine', 'Newton', 'Leibniz', 'Congreve', 'Berkeley', 'Pope', 'Montesquieu', 'Boswell', 'Lavoisier', 'Bentham', 'Fourier', 'Wordsworth', 'Clausewitz', 'Schopenhauer', 'Faraday', 'Lyell', 'Comte', 'Dostoevsky', 'Poincare', 'Planck', 'Bergson', 'Dewey', 'Whitehead', 'Santayana', 'Lenin', 'Maritain', 'Toynbee']\n"
     ]
    }
   ],
   "source": [
    "unrated_classic_authors = []\n",
    "#print (rated_classic_authors)\n",
    "\n",
    "for author in authors:\n",
    "    if not any(author in s for s in rated_classic_authors):\n",
    "        unrated_classic_authors.append(author)\n",
    "\n",
    "print ('number of unrated classic authors in data set: '+ repr(len(unrated_classic_authors)))\n",
    "print (unrated_classic_authors)"
   ]
  },
  {
   "cell_type": "code",
   "execution_count": 352,
   "metadata": {},
   "outputs": [
    {
     "data": {
      "text/html": [
       "<div>\n",
       "<style scoped>\n",
       "    .dataframe tbody tr th:only-of-type {\n",
       "        vertical-align: middle;\n",
       "    }\n",
       "\n",
       "    .dataframe tbody tr th {\n",
       "        vertical-align: top;\n",
       "    }\n",
       "\n",
       "    .dataframe thead th {\n",
       "        text-align: right;\n",
       "    }\n",
       "</style>\n",
       "<table border=\"1\" class=\"dataframe\">\n",
       "  <thead>\n",
       "    <tr style=\"text-align: right;\">\n",
       "      <th></th>\n",
       "      <th>book_id</th>\n",
       "      <th>title</th>\n",
       "      <th>authors</th>\n",
       "      <th>original_publication_year</th>\n",
       "      <th>average_rating</th>\n",
       "      <th>work_ratings_count</th>\n",
       "      <th>work_text_reviews_count</th>\n",
       "      <th>rating</th>\n",
       "      <th>deviation</th>\n",
       "      <th>ratings/review_count</th>\n",
       "    </tr>\n",
       "  </thead>\n",
       "  <tbody>\n",
       "    <tr>\n",
       "      <th>149</th>\n",
       "      <td>6302</td>\n",
       "      <td>Lady Susan</td>\n",
       "      <td>Jane Austen, Robert William Chapman</td>\n",
       "      <td>1871.0</td>\n",
       "      <td>3.56</td>\n",
       "      <td>20969</td>\n",
       "      <td>2047</td>\n",
       "      <td>3.51</td>\n",
       "      <td>-0.05</td>\n",
       "      <td>10.24</td>\n",
       "    </tr>\n",
       "    <tr>\n",
       "      <th>100</th>\n",
       "      <td>3508</td>\n",
       "      <td>Swann's Way (In Search of Lost Time, #1)</td>\n",
       "      <td>Marcel Proust, Simon Vance, Lydia Davis</td>\n",
       "      <td>1913.0</td>\n",
       "      <td>4.14</td>\n",
       "      <td>31697</td>\n",
       "      <td>2371</td>\n",
       "      <td>4.02</td>\n",
       "      <td>-0.12</td>\n",
       "      <td>13.37</td>\n",
       "    </tr>\n",
       "    <tr>\n",
       "      <th>174</th>\n",
       "      <td>7997</td>\n",
       "      <td>Washington Square</td>\n",
       "      <td>Henry James, Michael Cunningham</td>\n",
       "      <td>1880.0</td>\n",
       "      <td>3.67</td>\n",
       "      <td>14611</td>\n",
       "      <td>1068</td>\n",
       "      <td>3.63</td>\n",
       "      <td>-0.04</td>\n",
       "      <td>13.68</td>\n",
       "    </tr>\n",
       "    <tr>\n",
       "      <th>68</th>\n",
       "      <td>1878</td>\n",
       "      <td>The Turn of the Screw</td>\n",
       "      <td>Henry James</td>\n",
       "      <td>1898.0</td>\n",
       "      <td>3.45</td>\n",
       "      <td>66011</td>\n",
       "      <td>4401</td>\n",
       "      <td>3.41</td>\n",
       "      <td>-0.04</td>\n",
       "      <td>15.00</td>\n",
       "    </tr>\n",
       "    <tr>\n",
       "      <th>181</th>\n",
       "      <td>8471</td>\n",
       "      <td>Pudd'nhead Wilson</td>\n",
       "      <td>Mark Twain</td>\n",
       "      <td>1893.0</td>\n",
       "      <td>3.74</td>\n",
       "      <td>13549</td>\n",
       "      <td>854</td>\n",
       "      <td>3.72</td>\n",
       "      <td>-0.02</td>\n",
       "      <td>15.87</td>\n",
       "    </tr>\n",
       "    <tr>\n",
       "      <th>143</th>\n",
       "      <td>6104</td>\n",
       "      <td>Daisy Miller</td>\n",
       "      <td>Henry James</td>\n",
       "      <td>1878.0</td>\n",
       "      <td>3.36</td>\n",
       "      <td>20939</td>\n",
       "      <td>1279</td>\n",
       "      <td>3.34</td>\n",
       "      <td>-0.02</td>\n",
       "      <td>16.37</td>\n",
       "    </tr>\n",
       "    <tr>\n",
       "      <th>107</th>\n",
       "      <td>3755</td>\n",
       "      <td>Bartleby the Scrivener</td>\n",
       "      <td>Herman Melville</td>\n",
       "      <td>1853.0</td>\n",
       "      <td>3.90</td>\n",
       "      <td>31730</td>\n",
       "      <td>1915</td>\n",
       "      <td>3.85</td>\n",
       "      <td>-0.05</td>\n",
       "      <td>16.57</td>\n",
       "    </tr>\n",
       "    <tr>\n",
       "      <th>195</th>\n",
       "      <td>9455</td>\n",
       "      <td>The Old Curiosity Shop</td>\n",
       "      <td>Charles Dickens, Norman Page</td>\n",
       "      <td>1840.0</td>\n",
       "      <td>3.75</td>\n",
       "      <td>13299</td>\n",
       "      <td>792</td>\n",
       "      <td>3.72</td>\n",
       "      <td>-0.03</td>\n",
       "      <td>16.79</td>\n",
       "    </tr>\n",
       "    <tr>\n",
       "      <th>164</th>\n",
       "      <td>7416</td>\n",
       "      <td>The Life and Opinions of Tristram Shandy, Gent...</td>\n",
       "      <td>Laurence Sterne, Melvyn New</td>\n",
       "      <td>1767.0</td>\n",
       "      <td>3.74</td>\n",
       "      <td>15954</td>\n",
       "      <td>939</td>\n",
       "      <td>3.58</td>\n",
       "      <td>-0.16</td>\n",
       "      <td>16.99</td>\n",
       "    </tr>\n",
       "    <tr>\n",
       "      <th>146</th>\n",
       "      <td>6190</td>\n",
       "      <td>The Pickwick Papers</td>\n",
       "      <td>Charles Dickens</td>\n",
       "      <td>1837.0</td>\n",
       "      <td>3.82</td>\n",
       "      <td>20011</td>\n",
       "      <td>1175</td>\n",
       "      <td>3.87</td>\n",
       "      <td>0.05</td>\n",
       "      <td>17.03</td>\n",
       "    </tr>\n",
       "  </tbody>\n",
       "</table>\n",
       "</div>"
      ],
      "text/plain": [
       "     book_id                                              title  \\\n",
       "149     6302                                         Lady Susan   \n",
       "100     3508           Swann's Way (In Search of Lost Time, #1)   \n",
       "174     7997                                  Washington Square   \n",
       "68      1878                              The Turn of the Screw   \n",
       "181     8471                                  Pudd'nhead Wilson   \n",
       "143     6104                                       Daisy Miller   \n",
       "107     3755                             Bartleby the Scrivener   \n",
       "195     9455                             The Old Curiosity Shop   \n",
       "164     7416  The Life and Opinions of Tristram Shandy, Gent...   \n",
       "146     6190                                The Pickwick Papers   \n",
       "\n",
       "                                     authors  original_publication_year  \\\n",
       "149      Jane Austen, Robert William Chapman                     1871.0   \n",
       "100  Marcel Proust, Simon Vance, Lydia Davis                     1913.0   \n",
       "174          Henry James, Michael Cunningham                     1880.0   \n",
       "68                               Henry James                     1898.0   \n",
       "181                               Mark Twain                     1893.0   \n",
       "143                              Henry James                     1878.0   \n",
       "107                          Herman Melville                     1853.0   \n",
       "195             Charles Dickens, Norman Page                     1840.0   \n",
       "164              Laurence Sterne, Melvyn New                     1767.0   \n",
       "146                          Charles Dickens                     1837.0   \n",
       "\n",
       "     average_rating  work_ratings_count  work_text_reviews_count  rating  \\\n",
       "149            3.56               20969                     2047    3.51   \n",
       "100            4.14               31697                     2371    4.02   \n",
       "174            3.67               14611                     1068    3.63   \n",
       "68             3.45               66011                     4401    3.41   \n",
       "181            3.74               13549                      854    3.72   \n",
       "143            3.36               20939                     1279    3.34   \n",
       "107            3.90               31730                     1915    3.85   \n",
       "195            3.75               13299                      792    3.72   \n",
       "164            3.74               15954                      939    3.58   \n",
       "146            3.82               20011                     1175    3.87   \n",
       "\n",
       "     deviation  ratings/review_count  \n",
       "149      -0.05                 10.24  \n",
       "100      -0.12                 13.37  \n",
       "174      -0.04                 13.68  \n",
       "68       -0.04                 15.00  \n",
       "181      -0.02                 15.87  \n",
       "143      -0.02                 16.37  \n",
       "107      -0.05                 16.57  \n",
       "195      -0.03                 16.79  \n",
       "164      -0.16                 16.99  \n",
       "146       0.05                 17.03  "
      ]
     },
     "execution_count": 352,
     "metadata": {},
     "output_type": "execute_result"
    }
   ],
   "source": [
    "classics[\"ratings/review_count\"] = classics[\"work_ratings_count\"]/classics[\"work_text_reviews_count\"]\n",
    "classics.sort_values(by=['ratings/review_count','rating','work_text_reviews_count']).head(10)"
   ]
  },
  {
   "cell_type": "markdown",
   "metadata": {},
   "source": [
    "# Visualization\n",
    "Try out diffent plots for comparing the control set of all books and books from all classic authors.\n",
    "\n",
    "It shows that\n",
    "- 56 of 129 classic authors are not in dataset of books. The dataset can be scraped for 2020.\n",
    "- The classic books have average rating(3.82) less than control set (3.90). Note: This is for average rating from users of rate frequently. The average rating from all users for classics (3.88) is less than control set (4.0)\n",
    "- The users who rate frequently tend to give lower ratings.\n",
    "- Out of 10,000 books in control set only 212 are written by classic authors.\n",
    "- The standard deviation for classics(.21) is less than control set(.29)\n",
    "- For classics, one review has been given for every 44 ratings. Whereas for control set, one review has been given for every 34 ratings."
   ]
  },
  {
   "cell_type": "code",
   "execution_count": 353,
   "metadata": {},
   "outputs": [
    {
     "data": {
      "text/plain": [
       "<matplotlib.axes._subplots.AxesSubplot at 0x1236cda50>"
      ]
     },
     "execution_count": 353,
     "metadata": {},
     "output_type": "execute_result"
    },
    {
     "data": {
      "image/png": "[encoded data removed]",
      "text/plain": [
       "<Figure size 432x288 with 1 Axes>"
      ]
     },
     "metadata": {
      "needs_background": "light"
     },
     "output_type": "display_data"
    }
   ],
   "source": [
    "\n",
    "\n",
    "\n",
    "\n",
    "\n",
    "\n",
    "#t.violinplot(column=['average_rating', 'rating'])\n",
    "sns.distplot(books_summary_expert_rating[\"rating\"])\n",
    "sns.distplot(classics[\"rating\"],color=\"red\")\n",
    "\n",
    "#t[\"rating\"].plot.kde()\n",
    "#import matplotlib.pyplot as plt\n",
    "#fig = plt.figure()\n",
    "#for frame in [t,books_summary_expert_rating]:\n",
    "#    plt.hist(frame['average_rating'], normed=True, alpha=0.5)\n",
    "\n",
    "#plt.show()"
   ]
  },
  {
   "cell_type": "code",
   "execution_count": 354,
   "metadata": {},
   "outputs": [
    {
     "data": {
      "text/plain": [
       "<matplotlib.axes._subplots.AxesSubplot at 0x11e863cd0>"
      ]
     },
     "execution_count": 354,
     "metadata": {},
     "output_type": "execute_result"
    },
    {
     "data": {
      "image/png": "[encoded data removed]",
      "text/plain": [
       "<Figure size 432x288 with 1 Axes>"
      ]
     },
     "metadata": {
      "needs_background": "light"
     },
     "output_type": "display_data"
    }
   ],
   "source": [
    "#sns.stripplot(x=books_summary_expert_rating[\"rating\"])\n",
    "#sns.stripplot(x=classics[\"average_rating\"],color=\".8\")\n",
    "sns.violinplot(x=books_summary_expert_rating[\"rating\"])\n",
    "sns.violinplot(x=classics[\"rating\"],color=\".8\")"
   ]
  },
  {
   "cell_type": "code",
   "execution_count": 355,
   "metadata": {},
   "outputs": [
    {
     "data": {
      "text/plain": [
       "<matplotlib.axes._subplots.AxesSubplot at 0x120a78c50>"
      ]
     },
     "execution_count": 355,
     "metadata": {},
     "output_type": "execute_result"
    },
    {
     "data": {
      "image/png": "[encoded data removed]",
      "text/plain": [
       "<Figure size 432x288 with 1 Axes>"
      ]
     },
     "metadata": {
      "needs_background": "light"
     },
     "output_type": "display_data"
    }
   ],
   "source": [
    "books_summary_expert_rating.boxplot(column=['average_rating', 'rating'])"
   ]
  },
  {
   "cell_type": "code",
   "execution_count": 356,
   "metadata": {},
   "outputs": [
    {
     "data": {
      "text/plain": [
       "<matplotlib.axes._subplots.AxesSubplot at 0x120a48910>"
      ]
     },
     "execution_count": 356,
     "metadata": {},
     "output_type": "execute_result"
    },
    {
     "data": {
      "image/png": "[encoded data removed]",
      "text/plain": [
       "<Figure size 432x288 with 2 Axes>"
      ]
     },
     "metadata": {
      "needs_background": "light"
     },
     "output_type": "display_data"
    }
   ],
   "source": [
    "books_summary_expert_rating['log_work_ratings_count'] = np.log10(books_summary_expert_rating['work_ratings_count'])\n",
    "books_summary_expert_rating.plot.hexbin(x='average_rating',\n",
    "                      y='log_work_ratings_count', gridsize=20)"
   ]
  },
  {
   "cell_type": "code",
   "execution_count": 357,
   "metadata": {
    "scrolled": true
   },
   "outputs": [
    {
     "data": {
      "text/plain": [
       "<matplotlib.axes._subplots.AxesSubplot at 0x11f4867d0>"
      ]
     },
     "execution_count": 357,
     "metadata": {},
     "output_type": "execute_result"
    },
    {
     "data": {
      "image/png": "[encoded data removed]",
      "text/plain": [
       "<Figure size 432x288 with 1 Axes>"
      ]
     },
     "metadata": {
      "needs_background": "light"
     },
     "output_type": "display_data"
    }
   ],
   "source": [
    "books_summary_expert_rating.rating.plot.density(linewidth=4)"
   ]
  },
  {
   "cell_type": "code",
   "execution_count": 358,
   "metadata": {},
   "outputs": [
    {
     "data": {
      "text/plain": [
       "<seaborn.axisgrid.JointGrid at 0x11eb11d90>"
      ]
     },
     "execution_count": 358,
     "metadata": {},
     "output_type": "execute_result"
    },
    {
     "data": {
      "image/png": "[encoded data removed]",
      "text/plain": [
       "<Figure size 504x504 with 3 Axes>"
      ]
     },
     "metadata": {
      "needs_background": "light"
     },
     "output_type": "display_data"
    }
   ],
   "source": [
    "x1 = books_summary_expert_rating['rating']\n",
    "x2 = books_summary_expert_rating['average_rating']\n",
    "sns.jointplot(x1, x2, kind=\"reg\", height=7, space=0)"
   ]
  },
  {
   "cell_type": "code",
   "execution_count": null,
   "metadata": {},
   "outputs": [],
   "source": []
  }
 ],
 "metadata": {
  "kernelspec": {
   "display_name": "Python 3",
   "language": "python",
   "name": "python3"
  },
  "language_info": {
   "codemirror_mode": {
    "name": "ipython",
    "version": 3
   },
   "file_extension": ".py",
   "mimetype": "text/x-python",
   "name": "python",
   "nbconvert_exporter": "python",
   "pygments_lexer": "ipython3",
   "version": "3.7.7"
  }
 },
 "nbformat": 4,
 "nbformat_minor": 4
}
