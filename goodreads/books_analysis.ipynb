{
 "cells": [
  {
   "cell_type": "code",
   "execution_count": 52,
   "metadata": {},
   "outputs": [],
   "source": [
    "import pandas as pd\n",
    "import numpy as np\n",
    "\n",
    "%matplotlib inline\n",
    "#data from https://github.com/zygmuntz/goodbooks-10k\n",
    "ratings = pd.read_csv( 'data/ratings.csv' )\n",
    "to_read = pd.read_csv( 'data/to_read.csv' )\n",
    "books = pd.read_csv( 'data/books.csv' )\n",
    "tags = pd.read_csv( 'data/tags.csv' )\n",
    "book_tags = pd.read_csv( 'data/book_tags.csv')\n",
    "\n",
    "pd.set_option(\"display.precision\", 2)"
   ]
  },
  {
   "cell_type": "code",
   "execution_count": 139,
   "metadata": {},
   "outputs": [
    {
     "name": "stdout",
     "output_type": "stream",
     "text": [
      "books--> (10000, 23) ratings--> (5976479, 3)\n"
     ]
    },
    {
     "data": {
      "text/html": [
       "<div>\n",
       "<style scoped>\n",
       "    .dataframe tbody tr th:only-of-type {\n",
       "        vertical-align: middle;\n",
       "    }\n",
       "\n",
       "    .dataframe tbody tr th {\n",
       "        vertical-align: top;\n",
       "    }\n",
       "\n",
       "    .dataframe thead th {\n",
       "        text-align: right;\n",
       "    }\n",
       "</style>\n",
       "<table border=\"1\" class=\"dataframe\">\n",
       "  <thead>\n",
       "    <tr style=\"text-align: right;\">\n",
       "      <th></th>\n",
       "      <th>user_id</th>\n",
       "      <th>book_id</th>\n",
       "      <th>rating</th>\n",
       "    </tr>\n",
       "  </thead>\n",
       "  <tbody>\n",
       "    <tr>\n",
       "      <th>count</th>\n",
       "      <td>5.98e+06</td>\n",
       "      <td>5.98e+06</td>\n",
       "      <td>5.98e+06</td>\n",
       "    </tr>\n",
       "    <tr>\n",
       "      <th>mean</th>\n",
       "      <td>2.62e+04</td>\n",
       "      <td>2.01e+03</td>\n",
       "      <td>3.92e+00</td>\n",
       "    </tr>\n",
       "    <tr>\n",
       "      <th>std</th>\n",
       "      <td>1.54e+04</td>\n",
       "      <td>2.47e+03</td>\n",
       "      <td>9.91e-01</td>\n",
       "    </tr>\n",
       "    <tr>\n",
       "      <th>min</th>\n",
       "      <td>1.00e+00</td>\n",
       "      <td>1.00e+00</td>\n",
       "      <td>1.00e+00</td>\n",
       "    </tr>\n",
       "    <tr>\n",
       "      <th>25%</th>\n",
       "      <td>1.28e+04</td>\n",
       "      <td>1.98e+02</td>\n",
       "      <td>3.00e+00</td>\n",
       "    </tr>\n",
       "    <tr>\n",
       "      <th>50%</th>\n",
       "      <td>2.59e+04</td>\n",
       "      <td>8.85e+02</td>\n",
       "      <td>4.00e+00</td>\n",
       "    </tr>\n",
       "    <tr>\n",
       "      <th>75%</th>\n",
       "      <td>3.95e+04</td>\n",
       "      <td>2.97e+03</td>\n",
       "      <td>5.00e+00</td>\n",
       "    </tr>\n",
       "    <tr>\n",
       "      <th>max</th>\n",
       "      <td>5.34e+04</td>\n",
       "      <td>1.00e+04</td>\n",
       "      <td>5.00e+00</td>\n",
       "    </tr>\n",
       "  </tbody>\n",
       "</table>\n",
       "</div>"
      ],
      "text/plain": [
       "        user_id   book_id    rating\n",
       "count  5.98e+06  5.98e+06  5.98e+06\n",
       "mean   2.62e+04  2.01e+03  3.92e+00\n",
       "std    1.54e+04  2.47e+03  9.91e-01\n",
       "min    1.00e+00  1.00e+00  1.00e+00\n",
       "25%    1.28e+04  1.98e+02  3.00e+00\n",
       "50%    2.59e+04  8.85e+02  4.00e+00\n",
       "75%    3.95e+04  2.97e+03  5.00e+00\n",
       "max    5.34e+04  1.00e+04  5.00e+00"
      ]
     },
     "execution_count": 139,
     "metadata": {},
     "output_type": "execute_result"
    }
   ],
   "source": [
    "print ('books-->', books.shape , 'ratings-->' ,ratings.shape)\n",
    "ratings.describe()"
   ]
  },
  {
   "cell_type": "code",
   "execution_count": 54,
   "metadata": {},
   "outputs": [
    {
     "data": {
      "text/html": [
       "<div>\n",
       "<style scoped>\n",
       "    .dataframe tbody tr th:only-of-type {\n",
       "        vertical-align: middle;\n",
       "    }\n",
       "\n",
       "    .dataframe tbody tr th {\n",
       "        vertical-align: top;\n",
       "    }\n",
       "\n",
       "    .dataframe thead th {\n",
       "        text-align: right;\n",
       "    }\n",
       "</style>\n",
       "<table border=\"1\" class=\"dataframe\">\n",
       "  <thead>\n",
       "    <tr style=\"text-align: right;\">\n",
       "      <th></th>\n",
       "      <th>book_id</th>\n",
       "      <th>original_publication_year</th>\n",
       "      <th>average_rating</th>\n",
       "      <th>work_ratings_count</th>\n",
       "      <th>work_text_reviews_count</th>\n",
       "    </tr>\n",
       "  </thead>\n",
       "  <tbody>\n",
       "    <tr>\n",
       "      <th>count</th>\n",
       "      <td>10000.00</td>\n",
       "      <td>9979.00</td>\n",
       "      <td>10000.00</td>\n",
       "      <td>1.00e+04</td>\n",
       "      <td>10000.00</td>\n",
       "    </tr>\n",
       "    <tr>\n",
       "      <th>mean</th>\n",
       "      <td>5000.50</td>\n",
       "      <td>1981.99</td>\n",
       "      <td>4.00</td>\n",
       "      <td>5.97e+04</td>\n",
       "      <td>2919.96</td>\n",
       "    </tr>\n",
       "    <tr>\n",
       "      <th>std</th>\n",
       "      <td>2886.90</td>\n",
       "      <td>152.58</td>\n",
       "      <td>0.25</td>\n",
       "      <td>1.68e+05</td>\n",
       "      <td>6124.38</td>\n",
       "    </tr>\n",
       "    <tr>\n",
       "      <th>min</th>\n",
       "      <td>1.00</td>\n",
       "      <td>-1750.00</td>\n",
       "      <td>2.47</td>\n",
       "      <td>5.51e+03</td>\n",
       "      <td>3.00</td>\n",
       "    </tr>\n",
       "    <tr>\n",
       "      <th>25%</th>\n",
       "      <td>2500.75</td>\n",
       "      <td>1990.00</td>\n",
       "      <td>3.85</td>\n",
       "      <td>1.54e+04</td>\n",
       "      <td>694.00</td>\n",
       "    </tr>\n",
       "    <tr>\n",
       "      <th>50%</th>\n",
       "      <td>5000.50</td>\n",
       "      <td>2004.00</td>\n",
       "      <td>4.02</td>\n",
       "      <td>2.38e+04</td>\n",
       "      <td>1402.00</td>\n",
       "    </tr>\n",
       "    <tr>\n",
       "      <th>75%</th>\n",
       "      <td>7500.25</td>\n",
       "      <td>2011.00</td>\n",
       "      <td>4.18</td>\n",
       "      <td>4.59e+04</td>\n",
       "      <td>2744.25</td>\n",
       "    </tr>\n",
       "    <tr>\n",
       "      <th>max</th>\n",
       "      <td>10000.00</td>\n",
       "      <td>2017.00</td>\n",
       "      <td>4.82</td>\n",
       "      <td>4.94e+06</td>\n",
       "      <td>155254.00</td>\n",
       "    </tr>\n",
       "  </tbody>\n",
       "</table>\n",
       "</div>"
      ],
      "text/plain": [
       "        book_id  original_publication_year  average_rating  \\\n",
       "count  10000.00                    9979.00        10000.00   \n",
       "mean    5000.50                    1981.99            4.00   \n",
       "std     2886.90                     152.58            0.25   \n",
       "min        1.00                   -1750.00            2.47   \n",
       "25%     2500.75                    1990.00            3.85   \n",
       "50%     5000.50                    2004.00            4.02   \n",
       "75%     7500.25                    2011.00            4.18   \n",
       "max    10000.00                    2017.00            4.82   \n",
       "\n",
       "       work_ratings_count  work_text_reviews_count  \n",
       "count            1.00e+04                 10000.00  \n",
       "mean             5.97e+04                  2919.96  \n",
       "std              1.68e+05                  6124.38  \n",
       "min              5.51e+03                     3.00  \n",
       "25%              1.54e+04                   694.00  \n",
       "50%              2.38e+04                  1402.00  \n",
       "75%              4.59e+04                  2744.25  \n",
       "max              4.94e+06                155254.00  "
      ]
     },
     "execution_count": 54,
     "metadata": {},
     "output_type": "execute_result"
    }
   ],
   "source": [
    "\n",
    "books.columns.values\n",
    "books_summary = books[['book_id','title', 'authors', 'original_publication_year','average_rating', 'work_ratings_count','work_text_reviews_count']]\n",
    "books_summary.describe()"
   ]
  },
  {
   "cell_type": "code",
   "execution_count": 135,
   "metadata": {
    "scrolled": true
   },
   "outputs": [],
   "source": [
    "#Show distribution of users based on number of books rated\n",
    "ratings_per_user = ratings.groupby('user_id').user_id.apply(lambda x: len(x))\n",
    "#.user_id.apply( lambda x: len( x ))\n",
    "#ratings_per_user.hist(bins=40)\n",
    "#ratings_per_user.describe()\n",
    "#ratings['u'].hist(by=df['ser'])\n",
    "#ratings.columns.values\n"
   ]
  },
  {
   "cell_type": "code",
   "execution_count": 56,
   "metadata": {},
   "outputs": [
    {
     "data": {
      "text/plain": [
       "<matplotlib.axes._subplots.AxesSubplot at 0x1160e4610>"
      ]
     },
     "execution_count": 56,
     "metadata": {},
     "output_type": "execute_result"
    },
    {
     "data": {
      "image/png": "[encoded data removed]",
      "text/plain": [
       "<Figure size 432x288 with 1 Axes>"
      ]
     },
     "metadata": {
      "needs_background": "light"
     },
     "output_type": "display_data"
    }
   ],
   "source": [
    "ratings_per_user.sort_values().hist(bins=40)"
   ]
  },
  {
   "cell_type": "markdown",
   "metadata": {},
   "source": [
    "The dataset contains only users who have rated at least 19 books and average user has rated 111 books. The max user has rated 200 books implying reading and rating a book a month for 16 years :-)"
   ]
  },
  {
   "cell_type": "code",
   "execution_count": 57,
   "metadata": {},
   "outputs": [
    {
     "data": {
      "text/plain": [
       "count    10000.00\n",
       "mean       597.65\n",
       "std       1267.29\n",
       "min          8.00\n",
       "25%        155.00\n",
       "50%        248.00\n",
       "75%        503.00\n",
       "max      22806.00\n",
       "Name: book_id, dtype: float64"
      ]
     },
     "execution_count": 57,
     "metadata": {},
     "output_type": "execute_result"
    }
   ],
   "source": [
    "#ratings.boxplot(column='rating')\n",
    "#ratings.rating.describe()\n",
    "ratings_per_book = ratings.groupby('book_id').book_id.apply( lambda x: len( x ))\n",
    "ratings_per_book.describe() "
   ]
  },
  {
   "cell_type": "markdown",
   "metadata": {},
   "source": [
    "Each book has at least 8 ratings and average book has 248 ratings from a user. Note: User is somebody who has rated at least 19 books."
   ]
  },
  {
   "cell_type": "markdown",
   "metadata": {},
   "source": [
    "# The Books with most ratings are:"
   ]
  },
  {
   "cell_type": "code",
   "execution_count": 58,
   "metadata": {},
   "outputs": [
    {
     "name": "stdout",
     "output_type": "stream",
     "text": [
      "Harry Potter and the Philosopher's Stone\n",
      "Twilight\n",
      "The Great Gatsby\n",
      "To Kill a Mockingbird\n",
      "The Fault in Our Stars\n",
      "Harry Potter and the Prisoner of Azkaban\n",
      "Harry Potter and the Order of the Phoenix\n",
      " The Fellowship of the Ring\n",
      "Harry Potter and the Goblet of Fire\n",
      "The Catcher in the Rye\n"
     ]
    }
   ],
   "source": [
    "book_id = ratings_per_book.sort_values(ascending=False).index.tolist()[:10]\n",
    "popularity_most_ratings = books.iloc[book_id].original_title.to_list()\n",
    "print (*popularity_most_ratings, sep='\\n')"
   ]
  },
  {
   "cell_type": "markdown",
   "metadata": {},
   "source": [
    "# The Books with best average ratings\n",
    "Note: ratings only from user who has rated at least 19 books."
   ]
  },
  {
   "cell_type": "code",
   "execution_count": 138,
   "metadata": {
    "scrolled": true
   },
   "outputs": [],
   "source": [
    "\n",
    "avg_ratings_per_book = ratings.groupby('book_id').rating.mean()\n",
    "avg_ratings_per_book.hist(bins=40)\n",
    "high_rated_books = avg_ratings_per_book.sort_values(ascending=False).index.tolist()[:10]\n",
    "popularity_avg_ratings = books.iloc[high_rated_books].title.to_list()\n",
    "#print (*popularity_avg_ratings, sep='\\n')\n",
    "#avg_ratings_per_book.head()\n",
    "#avg_ratings_per_book.sort_values(ascending=False).head()\n",
    "#books.iloc[7947]\n",
    "#ratings_per_book[high_rated_books]"
   ]
  },
  {
   "cell_type": "code",
   "execution_count": 142,
   "metadata": {},
   "outputs": [
    {
     "data": {
      "text/html": [
       "<div>\n",
       "<style scoped>\n",
       "    .dataframe tbody tr th:only-of-type {\n",
       "        vertical-align: middle;\n",
       "    }\n",
       "\n",
       "    .dataframe tbody tr th {\n",
       "        vertical-align: top;\n",
       "    }\n",
       "\n",
       "    .dataframe thead th {\n",
       "        text-align: right;\n",
       "    }\n",
       "</style>\n",
       "<table border=\"1\" class=\"dataframe\">\n",
       "  <thead>\n",
       "    <tr style=\"text-align: right;\">\n",
       "      <th></th>\n",
       "      <th>book_id</th>\n",
       "      <th>original_publication_year</th>\n",
       "      <th>average_rating</th>\n",
       "      <th>work_ratings_count</th>\n",
       "      <th>work_text_reviews_count</th>\n",
       "      <th>rating</th>\n",
       "      <th>deviation</th>\n",
       "    </tr>\n",
       "  </thead>\n",
       "  <tbody>\n",
       "    <tr>\n",
       "      <th>count</th>\n",
       "      <td>10000.00</td>\n",
       "      <td>9979.00</td>\n",
       "      <td>10000.00</td>\n",
       "      <td>1.00e+04</td>\n",
       "      <td>10000.00</td>\n",
       "      <td>10000.00</td>\n",
       "      <td>10000.00</td>\n",
       "    </tr>\n",
       "    <tr>\n",
       "      <th>mean</th>\n",
       "      <td>5000.50</td>\n",
       "      <td>1981.99</td>\n",
       "      <td>4.00</td>\n",
       "      <td>5.97e+04</td>\n",
       "      <td>2919.96</td>\n",
       "      <td>3.90</td>\n",
       "      <td>-0.10</td>\n",
       "    </tr>\n",
       "    <tr>\n",
       "      <th>std</th>\n",
       "      <td>2886.90</td>\n",
       "      <td>152.58</td>\n",
       "      <td>0.25</td>\n",
       "      <td>1.68e+05</td>\n",
       "      <td>6124.38</td>\n",
       "      <td>0.29</td>\n",
       "      <td>0.10</td>\n",
       "    </tr>\n",
       "    <tr>\n",
       "      <th>min</th>\n",
       "      <td>1.00</td>\n",
       "      <td>-1750.00</td>\n",
       "      <td>2.47</td>\n",
       "      <td>5.51e+03</td>\n",
       "      <td>3.00</td>\n",
       "      <td>2.08</td>\n",
       "      <td>-0.93</td>\n",
       "    </tr>\n",
       "    <tr>\n",
       "      <th>25%</th>\n",
       "      <td>2500.75</td>\n",
       "      <td>1990.00</td>\n",
       "      <td>3.85</td>\n",
       "      <td>1.54e+04</td>\n",
       "      <td>694.00</td>\n",
       "      <td>3.73</td>\n",
       "      <td>-0.15</td>\n",
       "    </tr>\n",
       "    <tr>\n",
       "      <th>50%</th>\n",
       "      <td>5000.50</td>\n",
       "      <td>2004.00</td>\n",
       "      <td>4.02</td>\n",
       "      <td>2.38e+04</td>\n",
       "      <td>1402.00</td>\n",
       "      <td>3.92</td>\n",
       "      <td>-0.09</td>\n",
       "    </tr>\n",
       "    <tr>\n",
       "      <th>75%</th>\n",
       "      <td>7500.25</td>\n",
       "      <td>2011.00</td>\n",
       "      <td>4.18</td>\n",
       "      <td>4.59e+04</td>\n",
       "      <td>2744.25</td>\n",
       "      <td>4.10</td>\n",
       "      <td>-0.04</td>\n",
       "    </tr>\n",
       "    <tr>\n",
       "      <th>max</th>\n",
       "      <td>10000.00</td>\n",
       "      <td>2017.00</td>\n",
       "      <td>4.82</td>\n",
       "      <td>4.94e+06</td>\n",
       "      <td>155254.00</td>\n",
       "      <td>4.83</td>\n",
       "      <td>0.51</td>\n",
       "    </tr>\n",
       "  </tbody>\n",
       "</table>\n",
       "</div>"
      ],
      "text/plain": [
       "        book_id  original_publication_year  average_rating  \\\n",
       "count  10000.00                    9979.00        10000.00   \n",
       "mean    5000.50                    1981.99            4.00   \n",
       "std     2886.90                     152.58            0.25   \n",
       "min        1.00                   -1750.00            2.47   \n",
       "25%     2500.75                    1990.00            3.85   \n",
       "50%     5000.50                    2004.00            4.02   \n",
       "75%     7500.25                    2011.00            4.18   \n",
       "max    10000.00                    2017.00            4.82   \n",
       "\n",
       "       work_ratings_count  work_text_reviews_count    rating  deviation  \n",
       "count            1.00e+04                 10000.00  10000.00   10000.00  \n",
       "mean             5.97e+04                  2919.96      3.90      -0.10  \n",
       "std              1.68e+05                  6124.38      0.29       0.10  \n",
       "min              5.51e+03                     3.00      2.08      -0.93  \n",
       "25%              1.54e+04                   694.00      3.73      -0.15  \n",
       "50%              2.38e+04                  1402.00      3.92      -0.09  \n",
       "75%              4.59e+04                  2744.25      4.10      -0.04  \n",
       "max              4.94e+06                155254.00      4.83       0.51  "
      ]
     },
     "execution_count": 142,
     "metadata": {},
     "output_type": "execute_result"
    }
   ],
   "source": [
    "books_summary_expert_rating= books_summary.merge( avg_ratings_per_book, on = 'book_id')\n",
    "books_summary_expert_rating[\"deviation\"] = books_summary_expert_rating[\"rating\"]-books_summary_expert_rating[\"average_rating\"]\n",
    "books_summary_expert_rating.describe()\n",
    "#book_classics = books_summary_expert_rating[books_summary_expert_rating['original_publication_year'] < 1940]\n",
    "#book_modern = books_summary_expert_rating[books_summary_expert_rating['original_publication_year'] >= 1940]\n",
    "\n",
    "#avg_expert_rating_classics = book_classics['average_rating'].mean()\n",
    "#avg_expert_rating_modern = book_modern['average_rating'].mean()\n",
    "#print (avg_expert_rating_classics, avg_expert_rating_modern)\n",
    "#underrated books\n",
    "#books_summary_expert_rating.sort_values(by=['deviation','rating','work_text_reviews_count'],ascending=False).head(10)\n",
    "#book_classics.sort_values(by=['original_publication_year'])[240:260]\n",
    "#book_classics.sort_values(by=['work_text_reviews_count'])\n"
   ]
  },
  {
   "cell_type": "markdown",
   "metadata": {},
   "source": [
    "The following compilation of authors and books is recommended by Mortimer Adler's reading list from the book 'How to Read'. \n",
    "Several Authors are not in dataset as they may not have enough ratings/reviews. Mostly Scientific Works.\n",
    "Furthermore, several classics from eastern civilization are absent and the list should be extended."
   ]
  },
  {
   "cell_type": "code",
   "execution_count": 144,
   "metadata": {},
   "outputs": [
    {
     "data": {
      "text/html": [
       "<div>\n",
       "<style scoped>\n",
       "    .dataframe tbody tr th:only-of-type {\n",
       "        vertical-align: middle;\n",
       "    }\n",
       "\n",
       "    .dataframe tbody tr th {\n",
       "        vertical-align: top;\n",
       "    }\n",
       "\n",
       "    .dataframe thead th {\n",
       "        text-align: right;\n",
       "    }\n",
       "</style>\n",
       "<table border=\"1\" class=\"dataframe\">\n",
       "  <thead>\n",
       "    <tr style=\"text-align: right;\">\n",
       "      <th></th>\n",
       "      <th>book_id</th>\n",
       "      <th>original_publication_year</th>\n",
       "      <th>average_rating</th>\n",
       "      <th>work_ratings_count</th>\n",
       "      <th>work_text_reviews_count</th>\n",
       "      <th>rating</th>\n",
       "      <th>deviation</th>\n",
       "    </tr>\n",
       "  </thead>\n",
       "  <tbody>\n",
       "    <tr>\n",
       "      <th>count</th>\n",
       "      <td>747.00</td>\n",
       "      <td>744.00</td>\n",
       "      <td>747.00</td>\n",
       "      <td>7.47e+02</td>\n",
       "      <td>747.00</td>\n",
       "      <td>747.00</td>\n",
       "      <td>747.00</td>\n",
       "    </tr>\n",
       "    <tr>\n",
       "      <th>mean</th>\n",
       "      <td>4766.21</td>\n",
       "      <td>1867.79</td>\n",
       "      <td>3.96</td>\n",
       "      <td>6.46e+04</td>\n",
       "      <td>2429.91</td>\n",
       "      <td>3.87</td>\n",
       "      <td>-0.09</td>\n",
       "    </tr>\n",
       "    <tr>\n",
       "      <th>std</th>\n",
       "      <td>2890.81</td>\n",
       "      <td>432.46</td>\n",
       "      <td>0.25</td>\n",
       "      <td>1.58e+05</td>\n",
       "      <td>5050.75</td>\n",
       "      <td>0.27</td>\n",
       "      <td>0.09</td>\n",
       "    </tr>\n",
       "    <tr>\n",
       "      <th>min</th>\n",
       "      <td>10.00</td>\n",
       "      <td>-762.00</td>\n",
       "      <td>2.80</td>\n",
       "      <td>8.27e+03</td>\n",
       "      <td>4.00</td>\n",
       "      <td>2.62</td>\n",
       "      <td>-0.58</td>\n",
       "    </tr>\n",
       "    <tr>\n",
       "      <th>25%</th>\n",
       "      <td>2338.00</td>\n",
       "      <td>1915.00</td>\n",
       "      <td>3.81</td>\n",
       "      <td>1.49e+04</td>\n",
       "      <td>646.50</td>\n",
       "      <td>3.71</td>\n",
       "      <td>-0.14</td>\n",
       "    </tr>\n",
       "    <tr>\n",
       "      <th>50%</th>\n",
       "      <td>4503.00</td>\n",
       "      <td>1996.00</td>\n",
       "      <td>3.98</td>\n",
       "      <td>2.41e+04</td>\n",
       "      <td>1176.00</td>\n",
       "      <td>3.89</td>\n",
       "      <td>-0.08</td>\n",
       "    </tr>\n",
       "    <tr>\n",
       "      <th>75%</th>\n",
       "      <td>7401.50</td>\n",
       "      <td>2009.00</td>\n",
       "      <td>4.13</td>\n",
       "      <td>4.89e+04</td>\n",
       "      <td>2239.00</td>\n",
       "      <td>4.04</td>\n",
       "      <td>-0.03</td>\n",
       "    </tr>\n",
       "    <tr>\n",
       "      <th>max</th>\n",
       "      <td>9995.00</td>\n",
       "      <td>2016.00</td>\n",
       "      <td>4.63</td>\n",
       "      <td>2.19e+06</td>\n",
       "      <td>75437.00</td>\n",
       "      <td>4.62</td>\n",
       "      <td>0.18</td>\n",
       "    </tr>\n",
       "  </tbody>\n",
       "</table>\n",
       "</div>"
      ],
      "text/plain": [
       "       book_id  original_publication_year  average_rating  work_ratings_count  \\\n",
       "count   747.00                     744.00          747.00            7.47e+02   \n",
       "mean   4766.21                    1867.79            3.96            6.46e+04   \n",
       "std    2890.81                     432.46            0.25            1.58e+05   \n",
       "min      10.00                    -762.00            2.80            8.27e+03   \n",
       "25%    2338.00                    1915.00            3.81            1.49e+04   \n",
       "50%    4503.00                    1996.00            3.98            2.41e+04   \n",
       "75%    7401.50                    2009.00            4.13            4.89e+04   \n",
       "max    9995.00                    2016.00            4.63            2.19e+06   \n",
       "\n",
       "       work_text_reviews_count  rating  deviation  \n",
       "count                   747.00  747.00     747.00  \n",
       "mean                   2429.91    3.87      -0.09  \n",
       "std                    5050.75    0.27       0.09  \n",
       "min                       4.00    2.62      -0.58  \n",
       "25%                     646.50    3.71      -0.14  \n",
       "50%                    1176.00    3.89      -0.08  \n",
       "75%                    2239.00    4.04      -0.03  \n",
       "max                   75437.00    4.62       0.18  "
      ]
     },
     "execution_count": 144,
     "metadata": {},
     "output_type": "execute_result"
    }
   ],
   "source": [
    "#Classics in dataset recommended by Mortimer Adler's reading list. \n",
    "#Authors\n",
    "authors = ['Homer', 'Aeschylus', 'Sophocles', 'Herodotus', 'Euripides', 'Thucydides', \n",
    "           'Hippocrates', 'Aristophanes', 'Plato', 'Aristotle', 'Epicurus', 'Euclid', 'Archimedes', 'Perga', 'Cicero', \n",
    "           'Lucretius', 'Virgil', 'Horace', 'Livy', 'Ovid', 'Plutarch', 'Tacitus', 'Gerasa', 'Epictetus', 'Ptolemy', \n",
    "           'Lucian', 'Aurelius', 'Galen', 'Plotinus', 'Augustine', 'Aquinas', 'Alighieri', 'Chaucer', 'Vinci', \n",
    "           'Machiavelli', 'Erasmus', 'Copernicus', 'More', 'Luther', 'Rabelais', 'Calvin', 'Montaigne', 'Gilbert', \n",
    "           'Cervantes', 'Spenser', 'Bacon', 'Shakespeare', 'Galilei', 'Kepler', 'Harvey', 'Hobbes', 'Descartes', 'Milton', \n",
    "           'Molière', 'Pascal', 'Huygens', 'Spinoza', 'Locke', 'Racine', 'Newton', 'Leibniz', 'Defoe', 'Swift', \n",
    "           'Congreve', 'Berkeley', 'Pope', 'Montesquieu', 'Voltaire', 'Fielding', 'Johnson', 'Hume', 'Rousseau', \n",
    "           'Sterne', 'Smith', 'Kant', 'Gibbon', 'Boswell', 'Lavoisier', 'Madison', 'Bentham', 'Goethe', 'Fourier', \n",
    "           'Hegel', 'Wordsworth', 'Coleridge', 'Austen', 'Clausewitz', 'Stendhal', 'Byron', 'Schopenhauer', 'Faraday', \n",
    "           'Lyell', 'Comte', 'Balzac', 'Emerson', 'Hawthorne', 'Tocqueville', 'Mill', 'Darwin', 'Dickens', 'Bernard', \n",
    "           'Thoreau', 'Marx', 'Eliot', 'Melville', 'Dostoevsky', 'Flaubert', 'Ibsen', 'Tolstoy', 'Twain', \n",
    "           'James', 'James', 'Nietzsche', 'Poincare', 'Freud', 'Shaw', 'Planck', 'Bergson', 'Dewey', 'Whitehead', \n",
    "           'Santayana', 'Lenin', 'Proust', 'Russell', 'Mann', 'Einstein', 'Joyce', 'Maritain', 'Kafka', 'Toynbee', \n",
    "           'Sartre', 'Solzhenitsyn']\n",
    "\n",
    "t = books_summary_expert_rating[books_summary_expert_rating['authors'].str.contains('|'.join(authors))]\n",
    "t.describe()\n",
    "#t.head()"
   ]
  },
  {
   "cell_type": "markdown",
   "metadata": {},
   "source": [
    "# Visualization\n",
    "Try out diffent plots for comparing the control set of all books and books from all classic authors.\n",
    "\n",
    "It shows that\n",
    "o The classic books have average rating(3.87) less than control set(3.9).\n",
    "o Out of 10,000 books in control set only 212 are written by classic authors.\n",
    "o The standard deviation for classics(.23) is less than control set(.99)"
   ]
  },
  {
   "cell_type": "code",
   "execution_count": 141,
   "metadata": {},
   "outputs": [
    {
     "data": {
      "text/plain": [
       "<matplotlib.axes._subplots.AxesSubplot at 0x1214bef10>"
      ]
     },
     "execution_count": 141,
     "metadata": {},
     "output_type": "execute_result"
    },
    {
     "data": {
      "image/png": "[encoded data removed]",
      "text/plain": [
       "<Figure size 432x288 with 1 Axes>"
      ]
     },
     "metadata": {
      "needs_background": "light"
     },
     "output_type": "display_data"
    }
   ],
   "source": [
    "import seaborn as sns\n",
    "t.head()\n",
    "\n",
    "#sns.stripplot(x=books_summary_expert_rating[\"rating\"])\n",
    "#sns.stripplot(x=t[\"average_rating\"],color=\".8\")\n",
    "\n",
    "#sns.violinplot(x=books_summary_expert_rating[\"rating\"])\n",
    "#sns.violinplot(x=t[\"rating\"],color=\".8\")\n",
    "\n",
    "#t.violinplot(column=['average_rating', 'rating'])\n",
    "sns.distplot(books_summary_expert_rating[\"rating\"])\n",
    "sns.distplot(t[\"rating\"],color=\"red\")\n",
    "\n",
    "#t[\"rating\"].plot.kde()\n",
    "#import matplotlib.pyplot as plt\n",
    "#fig = plt.figure()\n",
    "#for frame in [t,books_summary_expert_rating]:\n",
    "#    plt.hist(frame['average_rating'], normed=True, alpha=0.5)\n",
    "\n",
    "#plt.show()"
   ]
  },
  {
   "cell_type": "code",
   "execution_count": 145,
   "metadata": {},
   "outputs": [
    {
     "data": {
      "text/plain": [
       "<matplotlib.axes._subplots.AxesSubplot at 0x120ffd3d0>"
      ]
     },
     "execution_count": 145,
     "metadata": {},
     "output_type": "execute_result"
    },
    {
     "data": {
      "image/png": "[encoded data removed]",
      "text/plain": [
       "<Figure size 432x288 with 1 Axes>"
      ]
     },
     "metadata": {
      "needs_background": "light"
     },
     "output_type": "display_data"
    }
   ],
   "source": [
    "books_summary_expert_rating.boxplot(column=['average_rating', 'rating'])"
   ]
  },
  {
   "cell_type": "code",
   "execution_count": 146,
   "metadata": {},
   "outputs": [
    {
     "data": {
      "text/plain": [
       "<matplotlib.axes._subplots.AxesSubplot at 0x11f452750>"
      ]
     },
     "execution_count": 146,
     "metadata": {},
     "output_type": "execute_result"
    },
    {
     "data": {
      "image/png": "[encoded data removed]",
      "text/plain": [
       "<Figure size 432x288 with 2 Axes>"
      ]
     },
     "metadata": {
      "needs_background": "light"
     },
     "output_type": "display_data"
    }
   ],
   "source": [
    "books_summary_expert_rating['log_work_ratings_count'] = np.log10(books_summary_expert_rating['work_ratings_count'])\n",
    "books_summary_expert_rating.plot.hexbin(x='average_rating',\n",
    "                      y='log_work_ratings_count', gridsize=20)"
   ]
  },
  {
   "cell_type": "code",
   "execution_count": 147,
   "metadata": {},
   "outputs": [
    {
     "data": {
      "text/plain": [
       "<matplotlib.axes._subplots.AxesSubplot at 0x11f73df90>"
      ]
     },
     "execution_count": 147,
     "metadata": {},
     "output_type": "execute_result"
    },
    {
     "data": {
      "image/png": "[encoded data removed]",
      "text/plain": [
       "<Figure size 432x288 with 1 Axes>"
      ]
     },
     "metadata": {
      "needs_background": "light"
     },
     "output_type": "display_data"
    }
   ],
   "source": [
    "books_summary_expert_rating.rating.plot.density(linewidth=4)"
   ]
  },
  {
   "cell_type": "raw",
   "metadata": {},
   "source": []
  },
  {
   "cell_type": "code",
   "execution_count": null,
   "metadata": {},
   "outputs": [],
   "source": []
  }
 ],
 "metadata": {
  "kernelspec": {
   "display_name": "Python 3",
   "language": "python",
   "name": "python3"
  },
  "language_info": {
   "codemirror_mode": {
    "name": "ipython",
    "version": 3
   },
   "file_extension": ".py",
   "mimetype": "text/x-python",
   "name": "python",
   "nbconvert_exporter": "python",
   "pygments_lexer": "ipython3",
   "version": "3.7.7"
  }
 },
 "nbformat": 4,
 "nbformat_minor": 4
}
